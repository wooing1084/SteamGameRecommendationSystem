{
 "cells": [
  {
   "cell_type": "code",
   "execution_count": 1,
   "id": "92cc3012",
   "metadata": {},
   "outputs": [
    {
     "name": "stderr",
     "output_type": "stream",
     "text": [
      "/home/ec2-user/anaconda3/envs/python3/lib/python3.10/site-packages/pandas/core/computation/expressions.py:21: UserWarning: Pandas requires version '2.8.0' or newer of 'numexpr' (version '2.7.3' currently installed).\n",
      "  from pandas.core.computation.check import NUMEXPR_INSTALLED\n"
     ]
    },
    {
     "name": "stdout",
     "output_type": "stream",
     "text": [
      "sagemaker.config INFO - Not applying SDK defaults from location: /etc/xdg/sagemaker/config.yaml\n",
      "sagemaker.config INFO - Not applying SDK defaults from location: /home/ec2-user/.config/sagemaker/config.yaml\n"
     ]
    }
   ],
   "source": [
    "import pandas as pd\n",
    "import numpy as np\n",
    "import os\n",
    "import boto3\n",
    "import sagemaker\n",
    "\n",
    "from sklearn.preprocessing import StandardScaler"
   ]
  },
  {
   "cell_type": "markdown",
   "id": "8cad4c6b",
   "metadata": {},
   "source": [
    "## Load Dasets"
   ]
  },
  {
   "cell_type": "code",
   "execution_count": 2,
   "id": "9fc27eff",
   "metadata": {},
   "outputs": [
    {
     "name": "stdout",
     "output_type": "stream",
     "text": [
      "-------dataset------\n",
      "   app_id       title date_release  win  mac  linux  rating  positive_ratio  \\\n",
      "0  552520  Far Cry® 5   2018-03-26    1    0      0       7              80   \n",
      "1  552520  Far Cry® 5   2018-03-26    1    0      0       7              80   \n",
      "2  552520  Far Cry® 5   2018-03-26    1    0      0       7              80   \n",
      "3  552520  Far Cry® 5   2018-03-26    1    0      0       7              80   \n",
      "4  552520  Far Cry® 5   2018-03-26    1    0      0       7              80   \n",
      "\n",
      "   user_reviews  price_final  ...  RPG  Indie  Software Training  Simulation  \\\n",
      "0        129943         60.0  ...    0      0                  0           0   \n",
      "1        129943         60.0  ...    0      0                  0           0   \n",
      "2        129943         60.0  ...    0      0                  0           0   \n",
      "3        129943         60.0  ...    0      0                  0           0   \n",
      "4        129943         60.0  ...    0      0                  0           0   \n",
      "\n",
      "   Game Development Massively Multiplayer  Early Access  Nudity  Strategy  \\\n",
      "0                 0                     0             0       0         0   \n",
      "1                 0                     0             0       0         0   \n",
      "2                 0                     0             0       0         0   \n",
      "3                 0                     0             0       0         0   \n",
      "4                 0                     0             0       0         0   \n",
      "\n",
      "   Violent  \n",
      "0        0  \n",
      "1        0  \n",
      "2        0  \n",
      "3        0  \n",
      "4        0  \n",
      "\n",
      "[5 rows x 59 columns]\n"
     ]
    }
   ],
   "source": [
    "dataset = pd.read_csv(\"../datasets/merged_steam_games_.csv\")\n",
    "\n",
    "\n",
    "print(\"-------dataset------\")\n",
    "print(dataset.head())"
   ]
  },
  {
   "cell_type": "markdown",
   "id": "e7220e1d",
   "metadata": {},
   "source": [
    "Preprocessing\n",
    "\n",
    "- Feature selection\n"
   ]
  },
  {
   "cell_type": "code",
   "execution_count": 3,
   "id": "9f89263a",
   "metadata": {},
   "outputs": [
    {
     "name": "stdout",
     "output_type": "stream",
     "text": [
      "(46365, 56)\n",
      "   app_id  date_release  win  mac  linux  rating  positive_ratio  \\\n",
      "0  552520    1522022400    1    0      0       7              80   \n",
      "1  552520    1522022400    1    0      0       7              80   \n",
      "2  552520    1522022400    1    0      0       7              80   \n",
      "3  552520    1522022400    1    0      0       7              80   \n",
      "4  552520    1522022400    1    0      0       7              80   \n",
      "\n",
      "   user_reviews  price_final  price_original  ...  RPG  Indie  \\\n",
      "0        129943         60.0             0.0  ...    0      0   \n",
      "1        129943         60.0             0.0  ...    0      0   \n",
      "2        129943         60.0             0.0  ...    0      0   \n",
      "3        129943         60.0             0.0  ...    0      0   \n",
      "4        129943         60.0             0.0  ...    0      0   \n",
      "\n",
      "   Software Training  Simulation  Game Development  Massively Multiplayer  \\\n",
      "0                  0           0                 0                      0   \n",
      "1                  0           0                 0                      0   \n",
      "2                  0           0                 0                      0   \n",
      "3                  0           0                 0                      0   \n",
      "4                  0           0                 0                      0   \n",
      "\n",
      "   Early Access  Nudity  Strategy  Violent  \n",
      "0             0       0         0        0  \n",
      "1             0       0         0        0  \n",
      "2             0       0         0        0  \n",
      "3             0       0         0        0  \n",
      "4             0       0         0        0  \n",
      "\n",
      "[5 rows x 56 columns]\n",
      "Index(['app_id', 'date_release', 'win', 'mac', 'linux', 'rating',\n",
      "       'positive_ratio', 'user_reviews', 'price_final', 'price_original',\n",
      "       'discount', 'steam_deck', 'helpful', 'funny', 'date', 'is_recommended',\n",
      "       'hours', 'user_id', 'review_id', 'required_age', 'achievements',\n",
      "       'positive_ratings', 'negative_ratings', 'average_playtime',\n",
      "       'median_playtime', 'owners', 'price', 'Free to Play', 'Action',\n",
      "       'Utilities', 'Animation & Modeling', 'Photo Editing', 'Education',\n",
      "       'Sports', 'Audio Production', 'Casual', 'Web Publishing', 'Accounting',\n",
      "       'Documentary', 'Sexual Content', 'Adventure', 'Video Production',\n",
      "       'Design & Illustration', 'Racing', 'Gore', 'Tutorial', 'RPG', 'Indie',\n",
      "       'Software Training', 'Simulation', 'Game Development',\n",
      "       'Massively Multiplayer', 'Early Access', 'Nudity', 'Strategy',\n",
      "       'Violent'],\n",
      "      dtype='object')\n",
      "app_id                     int64\n",
      "date_release               int64\n",
      "win                        int64\n",
      "mac                        int64\n",
      "linux                      int64\n",
      "rating                     int64\n",
      "positive_ratio             int64\n",
      "user_reviews               int64\n",
      "price_final              float64\n",
      "price_original           float64\n",
      "discount                 float64\n",
      "steam_deck                 int64\n",
      "helpful                    int64\n",
      "funny                      int64\n",
      "date                       int64\n",
      "is_recommended             int64\n",
      "hours                    float64\n",
      "user_id                    int64\n",
      "review_id                  int64\n",
      "required_age               int64\n",
      "achievements               int64\n",
      "positive_ratings           int64\n",
      "negative_ratings           int64\n",
      "average_playtime           int64\n",
      "median_playtime            int64\n",
      "owners                     int64\n",
      "price                    float64\n",
      "Free to Play               int64\n",
      "Action                     int64\n",
      "Utilities                  int64\n",
      "Animation & Modeling       int64\n",
      "Photo Editing              int64\n",
      "Education                  int64\n",
      "Sports                     int64\n",
      "Audio Production           int64\n",
      "Casual                     int64\n",
      "Web Publishing             int64\n",
      "Accounting                 int64\n",
      "Documentary                int64\n",
      "Sexual Content             int64\n",
      "Adventure                  int64\n",
      "Video Production           int64\n",
      "Design & Illustration      int64\n",
      "Racing                     int64\n",
      "Gore                       int64\n",
      "Tutorial                   int64\n",
      "RPG                        int64\n",
      "Indie                      int64\n",
      "Software Training          int64\n",
      "Simulation                 int64\n",
      "Game Development           int64\n",
      "Massively Multiplayer      int64\n",
      "Early Access               int64\n",
      "Nudity                     int64\n",
      "Strategy                   int64\n",
      "Violent                    int64\n",
      "dtype: object\n",
      "              app_id  date_release      win           mac         linux  \\\n",
      "count   46365.000000  4.636500e+04  46365.0  46365.000000  46365.000000   \n",
      "mean   336570.117761  1.445352e+09      1.0      0.540041      0.390424   \n",
      "std    244014.483577  1.099198e+08      0.0      0.498400      0.487851   \n",
      "min       220.000000  1.099267e+09      1.0      0.000000      0.000000   \n",
      "25%    227300.000000  1.382486e+09      1.0      0.000000      0.000000   \n",
      "50%    294100.000000  1.461197e+09      1.0      1.000000      0.000000   \n",
      "75%    431960.000000  1.525046e+09      1.0      1.000000      1.000000   \n",
      "max    960090.000000  1.655683e+09      1.0      1.000000      1.000000   \n",
      "\n",
      "             rating  positive_ratio  user_reviews   price_final  \\\n",
      "count  46365.000000    46365.000000  4.636500e+04  46365.000000   \n",
      "mean       7.408476       91.170236  4.508574e+05     20.663461   \n",
      "std        0.631897        6.810820  7.748552e+05     16.202658   \n",
      "min        4.000000       57.000000  1.037200e+05      0.000000   \n",
      "25%        7.000000       86.000000  1.647020e+05     10.000000   \n",
      "50%        7.000000       94.000000  2.304070e+05     20.000000   \n",
      "75%        8.000000       96.000000  5.421980e+05     30.000000   \n",
      "max        8.000000       98.000000  7.494460e+06     60.000000   \n",
      "\n",
      "       price_original  ...           RPG         Indie  Software Training  \\\n",
      "count    46365.000000  ...  46365.000000  46365.000000            46365.0   \n",
      "mean         0.459143  ...      0.281721      0.302836                0.0   \n",
      "std          2.472455  ...      0.449843      0.459490                0.0   \n",
      "min          0.000000  ...      0.000000      0.000000                0.0   \n",
      "25%          0.000000  ...      0.000000      0.000000                0.0   \n",
      "50%          0.000000  ...      0.000000      0.000000                0.0   \n",
      "75%          0.000000  ...      1.000000      1.000000                0.0   \n",
      "max         19.990000  ...      1.000000      1.000000                0.0   \n",
      "\n",
      "         Simulation  Game Development  Massively Multiplayer  Early Access  \\\n",
      "count  46365.000000           46365.0           46365.000000  46365.000000   \n",
      "mean       0.203947               0.0               0.080751      0.122765   \n",
      "std        0.402934               0.0               0.272455      0.328171   \n",
      "min        0.000000               0.0               0.000000      0.000000   \n",
      "25%        0.000000               0.0               0.000000      0.000000   \n",
      "50%        0.000000               0.0               0.000000      0.000000   \n",
      "75%        0.000000               0.0               0.000000      0.000000   \n",
      "max        1.000000               0.0               1.000000      1.000000   \n",
      "\n",
      "             Nudity      Strategy       Violent  \n",
      "count  46365.000000  46365.000000  46365.000000  \n",
      "mean       0.011258      0.136676      0.011258  \n",
      "std        0.105508      0.343509      0.105508  \n",
      "min        0.000000      0.000000      0.000000  \n",
      "25%        0.000000      0.000000      0.000000  \n",
      "50%        0.000000      0.000000      0.000000  \n",
      "75%        0.000000      0.000000      0.000000  \n",
      "max        1.000000      1.000000      1.000000  \n",
      "\n",
      "[8 rows x 56 columns]\n"
     ]
    }
   ],
   "source": [
    "# convert date_realese columns to unixtime\n",
    "dataset['date_release'] = pd.to_datetime(dataset['date_release'])\n",
    "dataset['date_release'] = dataset['date_release'].apply(lambda x: int(x.timestamp()))\n",
    "\n",
    "dataset['date'] = pd.to_datetime(dataset['date'])\n",
    "dataset['date'] = dataset['date'].apply(lambda x: int(x.timestamp()))\n",
    "\n",
    "app_id_df = pd.DataFrame(dataset['app_id'])\n",
    "# data = data.drop(['app_id'], axis=1)\n",
    "\n",
    "titles_df = pd.DataFrame(dataset[['app_id', 'title']])\n",
    "titles_df.drop_duplicates(['app_id'], keep='first', inplace=True, ignore_index=True)\n",
    "\n",
    "# 전처리 안된 column 제거\n",
    "dataset = dataset.drop(['categories'], axis=1)\n",
    "\n",
    "dataset = dataset.drop(['title'], axis=1)\n",
    "dataset = dataset.drop(['release_date'], axis=1)  \n",
    "\n",
    "print(dataset.shape)\n",
    "print(dataset.head())\n",
    "print(dataset.columns)\n",
    "print(dataset.dtypes)\n",
    "print(dataset.describe())"
   ]
  },
  {
   "cell_type": "code",
   "execution_count": 4,
   "id": "b0910a33",
   "metadata": {},
   "outputs": [
    {
     "name": "stdout",
     "output_type": "stream",
     "text": [
      "       app_id  date_release  win  mac  linux  rating  positive_ratio  \\\n",
      "0      552520    1522022400    1    0      0       7              80   \n",
      "815    242760    1525046400    1    0      0       8              95   \n",
      "2093   444200    1478649600    1    1      0       7              80   \n",
      "2187   255710    1425945600    1    1      1       7              93   \n",
      "2725      220    1191974400    1    1      1       8              97   \n",
      "...       ...           ...  ...  ...    ...     ...             ...   \n",
      "42719  427520    1597363200    1    1      1       8              96   \n",
      "43254  814380    1553126400    1    0      0       8              95   \n",
      "43938  945360    1542326400    1    0      0       7              92   \n",
      "45411  477160    1469145600    1    1      0       7              94   \n",
      "45819  250900    1415059200    1    1      1       8              97   \n",
      "\n",
      "       user_reviews  price_final  price_original  ...  RPG  Indie  \\\n",
      "0            129943        60.00            0.00  ...    0      0   \n",
      "815          416113        20.00            0.00  ...    0      1   \n",
      "2093         131334         0.00            0.00  ...    0      0   \n",
      "2187         178458        30.00            0.00  ...    0      0   \n",
      "2725         122230         9.99            9.99  ...    0      0   \n",
      "...             ...          ...             ...  ...  ...    ...   \n",
      "42719        134384        35.00            0.00  ...    0      1   \n",
      "43254        176988        60.00            0.00  ...    0      0   \n",
      "43938        587821         3.00            0.00  ...    0      0   \n",
      "45411        145616        20.00            0.00  ...    0      1   \n",
      "45819        225815        15.00            0.00  ...    0      0   \n",
      "\n",
      "       Software Training  Simulation  Game Development  Massively Multiplayer  \\\n",
      "0                      0           0                 0                      0   \n",
      "815                    0           1                 0                      0   \n",
      "2093                   0           0                 0                      1   \n",
      "2187                   0           1                 0                      0   \n",
      "2725                   0           0                 0                      0   \n",
      "...                  ...         ...               ...                    ...   \n",
      "42719                  0           1                 0                      0   \n",
      "43254                  0           0                 0                      0   \n",
      "43938                  0           0                 0                      0   \n",
      "45411                  0           0                 0                      0   \n",
      "45819                  0           0                 0                      0   \n",
      "\n",
      "       Early Access  Nudity  Strategy  Violent  \n",
      "0                 0       0         0        0  \n",
      "815               0       0         0        0  \n",
      "2093              0       0         0        0  \n",
      "2187              0       0         1        0  \n",
      "2725              0       0         0        0  \n",
      "...             ...     ...       ...      ...  \n",
      "42719             1       0         1        0  \n",
      "43254             0       0         0        0  \n",
      "43938             0       0         0        0  \n",
      "45411             0       0         0        0  \n",
      "45819             0       0         0        0  \n",
      "\n",
      "[74 rows x 50 columns]\n"
     ]
    }
   ],
   "source": [
    "# Extract recommendation columns from dataset\n",
    "recommend_columns = ['app_id','helpful', 'funny', 'date', 'is_recommended', 'hours',\n",
    "       'user_id']\n",
    "\n",
    "recommend_datas = dataset[recommend_columns]\n",
    "\n",
    "game_infos = dataset.drop(recommend_columns[1:], axis=1)\n",
    "scaled_game_info = game_infos.copy()\n",
    "app_id_list = app_id_df['app_id'].unique()\n",
    "app_id_indices = [app_id_df[app_id_df['app_id'] == value].index[0] for value in app_id_list]\n",
    "print(game_infos.iloc[app_id_indices])"
   ]
  },
  {
   "cell_type": "markdown",
   "id": "9c46c782",
   "metadata": {},
   "source": [
    "## Scailing\n"
   ]
  },
  {
   "cell_type": "code",
   "execution_count": 5,
   "id": "e1c935cd",
   "metadata": {},
   "outputs": [
    {
     "name": "stdout",
     "output_type": "stream",
     "text": [
      "      app_id  date_release  win  mac  linux  rating  positive_ratio  \\\n",
      "0     552520      0.729471    1    0      0       7       -1.339144   \n",
      "815   242760      0.758106    1    0      0       8        0.611578   \n",
      "2093  444200      0.318765    1    1      0       7       -1.339144   \n",
      "2187  255710     -0.180300    1    1      1       7        0.351481   \n",
      "2725     220     -2.395823    1    1      1       8        0.871674   \n",
      "\n",
      "      user_reviews  price_final  price_original  ...  RPG  Indie  \\\n",
      "0        -0.360355     2.494874       -0.228311  ...    0      0   \n",
      "815      -0.046625    -0.006719       -0.228311  ...    0      1   \n",
      "2093     -0.358830    -1.257515       -0.228311  ...    0      0   \n",
      "2187     -0.307168     0.618679       -0.228311  ...    0      0   \n",
      "2725     -0.368811    -0.632742        2.842675  ...    0      0   \n",
      "\n",
      "      Software Training  Simulation  Game Development  Massively Multiplayer  \\\n",
      "0                     0           0                 0                      0   \n",
      "815                   0           1                 0                      0   \n",
      "2093                  0           0                 0                      1   \n",
      "2187                  0           1                 0                      0   \n",
      "2725                  0           0                 0                      0   \n",
      "\n",
      "      Early Access  Nudity  Strategy  Violent  \n",
      "0                0       0         0        0  \n",
      "815              0       0         0        0  \n",
      "2093             0       0         0        0  \n",
      "2187             0       0         1        0  \n",
      "2725             0       0         0        0  \n",
      "\n",
      "[5 rows x 50 columns]\n"
     ]
    }
   ],
   "source": [
    "\n",
    "\n",
    "scale_cols = ['date_release','positive_ratio','user_reviews','price_final','price_original', 'required_age', 'achievements', 'positive_ratings', 'negative_ratings', \n",
    "              'average_playtime', 'median_playtime', 'owners', 'price',]\n",
    "# scale_cols = [col for col in scaled_data.columns if col not in no_scale_cols]\n",
    "\n",
    "\n",
    "scaled_game_info = game_infos.iloc[app_id_indices]\n",
    "\n",
    "# Scale the data\n",
    "scaler = StandardScaler()\n",
    "scaled_game_info.loc[:,scale_cols] = scaler.fit_transform(scaled_game_info.loc[:,scale_cols])\n",
    "\n",
    "print(scaled_game_info.head())"
   ]
  },
  {
   "cell_type": "code",
   "execution_count": null,
   "id": "43355b0b",
   "metadata": {},
   "outputs": [],
   "source": []
  },
  {
   "cell_type": "markdown",
   "id": "e1b3e731",
   "metadata": {},
   "source": [
    "## Deploy datasets"
   ]
  },
  {
   "cell_type": "code",
   "execution_count": 6,
   "id": "770f8100",
   "metadata": {},
   "outputs": [],
   "source": [
    "games = scaled_game_info.copy()\n",
    "titles = titles_df.copy()\n",
    "reviews = recommend_datas.copy()"
   ]
  },
  {
   "cell_type": "code",
   "execution_count": 7,
   "id": "fa408b57",
   "metadata": {},
   "outputs": [
    {
     "name": "stdout",
     "output_type": "stream",
     "text": [
      "Stored 'games' (DataFrame)\n",
      "Stored 'titles' (DataFrame)\n",
      "Stored 'reviews' (DataFrame)\n"
     ]
    }
   ],
   "source": [
    "%store games\n",
    "%store titles\n",
    "%store reviews"
   ]
  },
  {
   "cell_type": "code",
   "execution_count": 8,
   "id": "b073a97e",
   "metadata": {},
   "outputs": [
    {
     "name": "stdout",
     "output_type": "stream",
     "text": [
      "currently in ap-northeast-2\n"
     ]
    }
   ],
   "source": [
    "# get current session region\n",
    "session = boto3.session.Session()\n",
    "region = session.region_name\n",
    "print(f'currently in {region}')"
   ]
  },
  {
   "cell_type": "code",
   "execution_count": 9,
   "id": "2a884a91",
   "metadata": {},
   "outputs": [
    {
     "name": "stdout",
     "output_type": "stream",
     "text": [
      "sagemaker.config INFO - Not applying SDK defaults from location: /etc/xdg/sagemaker/config.yaml\n",
      "sagemaker.config INFO - Not applying SDK defaults from location: /home/ec2-user/.config/sagemaker/config.yaml\n",
      "sagemaker-gacheon-5\n",
      "Stored 'bucket_name' (str)\n"
     ]
    }
   ],
   "source": [
    "# use the default sagemaker s3 bucket to store processed data\n",
    "# here we figure out what that default bucket name is \n",
    "sagemaker_session = sagemaker.Session()\n",
    "bucket_name = 'sagemaker-gacheon-5'\n",
    "print(bucket_name)\n",
    "# bucket name format: \"sagemaker-gacheon-{account 숫자}\"\n",
    "%store bucket_name"
   ]
  },
  {
   "cell_type": "code",
   "execution_count": 12,
   "id": "97868bd4",
   "metadata": {},
   "outputs": [
    {
     "data": {
      "text/plain": [
       "'s3://sagemaker-gacheon-5/data/reviews_columns.npy'"
      ]
     },
     "execution_count": 12,
     "metadata": {},
     "output_type": "execute_result"
    }
   ],
   "source": [
    "# Specify the destination directory\n",
    "dest = 'ml-latest-small/s3'\n",
    "\n",
    "# Create the directory if it doesn't exist\n",
    "os.makedirs(dest, exist_ok=True)\n",
    "\n",
    "# Paths for saving the data\n",
    "games_path = os.path.join(dest, 'games.npy')\n",
    "titles_path = os.path.join(dest, 'titles.npy')\n",
    "reviews_path = os.path.join(dest, 'reviews.npy')\n",
    "games_columns_path = os.path.join(dest, 'games_columns.npy')\n",
    "reviews_columns_path = os.path.join(dest, 'reviews_columns.npy')\n",
    "\n",
    "# Save data locally\n",
    "np.save(games_path, games.values, allow_pickle=True)\n",
    "np.save(titles_path, titles.values, allow_pickle=True)\n",
    "np.save(reviews_path, reviews.values, allow_pickle=True)\n",
    "np.save(games_columns_path, games.columns, allow_pickle=True)\n",
    "np.save(reviews_columns_path, reviews.columns, allow_pickle=True)\n",
    "\n",
    "# Upload to S3 bucket (see the bucket name above)\n",
    "sagemaker_session.upload_data(games_path, bucket=bucket_name, key_prefix='data')\n",
    "sagemaker_session.upload_data(titles_path, bucket=bucket_name, key_prefix='data')\n",
    "sagemaker_session.upload_data(reviews_path, bucket=bucket_name, key_prefix='data')\n",
    "sagemaker_session.upload_data(games_columns_path, bucket=bucket_name, key_prefix='data')\n",
    "sagemaker_session.upload_data(reviews_columns_path, bucket=bucket_name, key_prefix='data')\n"
   ]
  },
  {
   "cell_type": "code",
   "execution_count": null,
   "id": "22eaa5fa",
   "metadata": {},
   "outputs": [],
   "source": []
  }
 ],
 "metadata": {
  "kernelspec": {
   "display_name": "conda_python3",
   "language": "python",
   "name": "conda_python3"
  },
  "language_info": {
   "codemirror_mode": {
    "name": "ipython",
    "version": 3
   },
   "file_extension": ".py",
   "mimetype": "text/x-python",
   "name": "python",
   "nbconvert_exporter": "python",
   "pygments_lexer": "ipython3",
   "version": "3.10.13"
  }
 },
 "nbformat": 4,
 "nbformat_minor": 5
}
