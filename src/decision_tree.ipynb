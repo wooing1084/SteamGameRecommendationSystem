{
 "cells": [
  {
   "cell_type": "markdown",
   "metadata": {},
   "source": [
    "---\n",
    "디시전 트리로 추천/비추천 예측\n",
    "방법 1. User마다 decision tree 모델을 하나씩 갖는다.\n",
    "방법 2. user각자 고려하지 않고, user_id도 feature로 사용한다\n",
    "\n",
    "X - games features\n",
    "Y - 추천 여부"
   ]
  },
  {
   "cell_type": "code",
   "execution_count": 1,
   "metadata": {},
   "outputs": [
    {
     "name": "stdout",
     "output_type": "stream",
     "text": [
      "(9764026, 54)\n",
      "   app_id  helpful  funny        date  is_recommended  hours   user_id  win  \\\n",
      "0  304390        4      0  1619308800               0   42.5  10178125    1   \n",
      "1  304390        0      0  1612310400               1  265.8   9545809    1   \n",
      "2  304390        0      0  1604880000               0  493.3   2968763    1   \n",
      "3  304390        0      0  1624579200               1  114.5  13598296    1   \n",
      "4  304390        0      0  1617408000               0  226.0   6549932    1   \n",
      "\n",
      "   mac  linux  ...  RPG  Indie  Software Training  Simulation  \\\n",
      "0    0      0  ...    0      0                  0           0   \n",
      "1    0      0  ...    0      0                  0           0   \n",
      "2    0      0  ...    0      0                  0           0   \n",
      "3    0      0  ...    0      0                  0           0   \n",
      "4    0      0  ...    0      0                  0           0   \n",
      "\n",
      "   Game Development  Massively Multiplayer  Early Access  Nudity  Strategy  \\\n",
      "0                 0                      0             0       0         0   \n",
      "1                 0                      0             0       0         0   \n",
      "2                 0                      0             0       0         0   \n",
      "3                 0                      0             0       0         0   \n",
      "4                 0                      0             0       0         0   \n",
      "\n",
      "   Violent  \n",
      "0        0  \n",
      "1        0  \n",
      "2        0  \n",
      "3        0  \n",
      "4        0  \n",
      "\n",
      "[5 rows x 54 columns]\n",
      "Index(['app_id', 'helpful', 'funny', 'date', 'is_recommended', 'hours',\n",
      "       'user_id', 'win', 'mac', 'linux', 'rating', 'positive_ratio',\n",
      "       'user_reviews', 'price_final', 'price_original', 'steam_deck',\n",
      "       'release_date', 'required_age', 'achievements', 'positive_ratings',\n",
      "       'negative_ratings', 'average_playtime', 'median_playtime', 'owners',\n",
      "       'price', 'Free to Play', 'Action', 'Utilities', 'Animation & Modeling',\n",
      "       'Photo Editing', 'Education', 'Sports', 'Audio Production', 'Casual',\n",
      "       'Web Publishing', 'Accounting', 'Documentary', 'Sexual Content',\n",
      "       'Adventure', 'Video Production', 'Design & Illustration', 'Racing',\n",
      "       'Gore', 'Tutorial', 'RPG', 'Indie', 'Software Training', 'Simulation',\n",
      "       'Game Development', 'Massively Multiplayer', 'Early Access', 'Nudity',\n",
      "       'Strategy', 'Violent'],\n",
      "      dtype='object')\n",
      "app_id                     int64\n",
      "helpful                    int64\n",
      "funny                      int64\n",
      "date                       int64\n",
      "is_recommended             int64\n",
      "hours                    float64\n",
      "user_id                    int64\n",
      "win                        int64\n",
      "mac                        int64\n",
      "linux                      int64\n",
      "rating                     int64\n",
      "positive_ratio             int64\n",
      "user_reviews               int64\n",
      "price_final              float64\n",
      "price_original           float64\n",
      "steam_deck                 int64\n",
      "release_date               int64\n",
      "required_age               int64\n",
      "achievements               int64\n",
      "positive_ratings           int64\n",
      "negative_ratings           int64\n",
      "average_playtime           int64\n",
      "median_playtime            int64\n",
      "owners                     int64\n",
      "price                    float64\n",
      "Free to Play               int64\n",
      "Action                     int64\n",
      "Utilities                  int64\n",
      "Animation & Modeling       int64\n",
      "Photo Editing              int64\n",
      "Education                  int64\n",
      "Sports                     int64\n",
      "Audio Production           int64\n",
      "Casual                     int64\n",
      "Web Publishing             int64\n",
      "Accounting                 int64\n",
      "Documentary                int64\n",
      "Sexual Content             int64\n",
      "Adventure                  int64\n",
      "Video Production           int64\n",
      "Design & Illustration      int64\n",
      "Racing                     int64\n",
      "Gore                       int64\n",
      "Tutorial                   int64\n",
      "RPG                        int64\n",
      "Indie                      int64\n",
      "Software Training          int64\n",
      "Simulation                 int64\n",
      "Game Development           int64\n",
      "Massively Multiplayer      int64\n",
      "Early Access               int64\n",
      "Nudity                     int64\n",
      "Strategy                   int64\n",
      "Violent                    int64\n",
      "dtype: object\n",
      "             app_id       helpful         funny          date  is_recommended  \\\n",
      "count  9.764026e+06  9.764026e+06  9.764026e+06  9.764026e+06    9.764026e+06   \n",
      "mean   3.755675e+05  2.232770e+00  7.510872e-01  1.622634e+09    9.193086e-01   \n",
      "std    2.378189e+05  3.499159e+01  1.867060e+01  2.729216e+07    2.723606e-01   \n",
      "min    1.000000e+01  0.000000e+00  0.000000e+00  1.577837e+09    0.000000e+00   \n",
      "25%    2.383200e+05  0.000000e+00  0.000000e+00  1.598918e+09    1.000000e+00   \n",
      "50%    3.469000e+05  0.000000e+00  0.000000e+00  1.621296e+09    1.000000e+00   \n",
      "75%    5.187900e+05  0.000000e+00  0.000000e+00  1.644883e+09    1.000000e+00   \n",
      "max    1.058430e+06  1.711500e+04  1.341600e+04  1.672445e+09    1.000000e+00   \n",
      "\n",
      "              hours       user_id        win           mac         linux  ...  \\\n",
      "count  9.764026e+06  9.764026e+06  9764026.0  9.764026e+06  9.764026e+06  ...   \n",
      "mean   1.573134e+02  6.900530e+06        1.0  4.877327e-01  3.417509e-01  ...   \n",
      "std    2.059209e+02  4.122895e+06        0.0  4.998495e-01  4.742966e-01  ...   \n",
      "min    1.210000e+01  0.000000e+00        1.0  0.000000e+00  0.000000e+00  ...   \n",
      "25%    2.860000e+01  3.072944e+06        1.0  0.000000e+00  0.000000e+00  ...   \n",
      "50%    6.670000e+01  7.094499e+06        1.0  0.000000e+00  0.000000e+00  ...   \n",
      "75%    1.893000e+02  1.041067e+07        1.0  1.000000e+00  1.000000e+00  ...   \n",
      "max    9.999000e+02  1.378677e+07        1.0  1.000000e+00  1.000000e+00  ...   \n",
      "\n",
      "                RPG         Indie  Software Training    Simulation  \\\n",
      "count  9.764026e+06  9.764026e+06       9.764026e+06  9.764026e+06   \n",
      "mean   2.357276e-01  3.769325e-01       4.649721e-05  2.657840e-01   \n",
      "std    4.244527e-01  4.846178e-01       6.818728e-03  4.417498e-01   \n",
      "min    0.000000e+00  0.000000e+00       0.000000e+00  0.000000e+00   \n",
      "25%    0.000000e+00  0.000000e+00       0.000000e+00  0.000000e+00   \n",
      "50%    0.000000e+00  0.000000e+00       0.000000e+00  0.000000e+00   \n",
      "75%    0.000000e+00  1.000000e+00       0.000000e+00  1.000000e+00   \n",
      "max    1.000000e+00  1.000000e+00       1.000000e+00  1.000000e+00   \n",
      "\n",
      "       Game Development  Massively Multiplayer  Early Access        Nudity  \\\n",
      "count      9.764026e+06           9.764026e+06  9.764026e+06  9.764026e+06   \n",
      "mean       4.342471e-05           1.184916e-01  1.451117e-01  7.902785e-03   \n",
      "std        6.589600e-03           3.231893e-01  3.522134e-01  8.854565e-02   \n",
      "min        0.000000e+00           0.000000e+00  0.000000e+00  0.000000e+00   \n",
      "25%        0.000000e+00           0.000000e+00  0.000000e+00  0.000000e+00   \n",
      "50%        0.000000e+00           0.000000e+00  0.000000e+00  0.000000e+00   \n",
      "75%        0.000000e+00           0.000000e+00  0.000000e+00  0.000000e+00   \n",
      "max        1.000000e+00           1.000000e+00  1.000000e+00  1.000000e+00   \n",
      "\n",
      "           Strategy       Violent  \n",
      "count  9.764026e+06  9.764026e+06  \n",
      "mean   1.984207e-01  1.163455e-02  \n",
      "std    3.988107e-01  1.072342e-01  \n",
      "min    0.000000e+00  0.000000e+00  \n",
      "25%    0.000000e+00  0.000000e+00  \n",
      "50%    0.000000e+00  0.000000e+00  \n",
      "75%    0.000000e+00  0.000000e+00  \n",
      "max    1.000000e+00  1.000000e+00  \n",
      "\n",
      "[8 rows x 54 columns]\n"
     ]
    }
   ],
   "source": [
    "\n",
    "import numpy as np\n",
    "import pandas as pd\n",
    "\n",
    "# Load the data\n",
    "data = pd.read_csv('../datasets/merged_steam_games.csv')\n",
    "\n",
    "# convert date_realese columns to unixtime\n",
    "data['release_date'] = pd.to_datetime(data['release_date'])\n",
    "data['release_date'] = data['release_date'].apply(lambda x: int(x.timestamp()))\n",
    "\n",
    "data['date'] = pd.to_datetime(data['date'])\n",
    "data['date'] = data['date'].apply(lambda x: int(x.timestamp()))\n",
    "\n",
    "ids = pd.DataFrame(data['app_id'])\n",
    "\n",
    "# 전처리 안된 column 제거\n",
    "data = data.drop(['categories'], axis=1)\n",
    "\n",
    "print(data.shape)\n",
    "print(data.head())\n",
    "print(data.columns)\n",
    "print(data.dtypes)\n",
    "print(data.describe())\n"
   ]
  },
  {
   "cell_type": "code",
   "execution_count": 2,
   "metadata": {},
   "outputs": [],
   "source": [
    "# 데이터셋에서 게임 데이터 분할\n",
    "recommend_columns = ['app_id','helpful', 'funny', 'date', 'is_recommended', 'hours',\n",
    "       'user_id']\n",
    "\n",
    "recommend_datas = data[recommend_columns]\n",
    "\n",
    "game_infos = data.drop(recommend_columns[1:], axis=1)"
   ]
  },
  {
   "cell_type": "markdown",
   "metadata": {},
   "source": [
    "## Scailing"
   ]
  },
  {
   "cell_type": "code",
   "execution_count": 3,
   "metadata": {},
   "outputs": [
    {
     "name": "stdout",
     "output_type": "stream",
     "text": [
      "[304390 306130 238960 ... 431700 563200 813650]\n"
     ]
    },
    {
     "name": "stderr",
     "output_type": "stream",
     "text": [
      "/var/folders/tr/1pblcvrd48j5lfn0khj_hm4w0000gn/T/ipykernel_37371/2006423257.py:15: SettingWithCopyWarning: \n",
      "A value is trying to be set on a copy of a slice from a DataFrame.\n",
      "Try using .loc[row_indexer,col_indexer] = value instead\n",
      "\n",
      "See the caveats in the documentation: https://pandas.pydata.org/pandas-docs/stable/user_guide/indexing.html#returning-a-view-versus-a-copy\n",
      "  scaled_data[scale_cols] = scaler.fit_transform(scaled_data[scale_cols])\n"
     ]
    }
   ],
   "source": [
    "from sklearn.preprocessing import StandardScaler\n",
    "scaled_data = game_infos.copy()\n",
    "scale_cols = ['release_date','positive_ratio','user_reviews','price_final','price_original', 'required_age', 'achievements', 'positive_ratings', 'negative_ratings', \n",
    "              'average_playtime', 'median_playtime', 'owners', 'price',]\n",
    "# scale_cols = [col for col in scaled_data.columns if col not in no_scale_cols]\n",
    "unique_values = ids['app_id'].unique()\n",
    "print(unique_values)\n",
    "\n",
    "index_positions = [ids[ids['app_id'] == value].index[0] for value in unique_values]\n",
    "\n",
    "scaled_data = game_infos.iloc[index_positions]\n",
    "\n",
    "# Scale the data\n",
    "scaler = StandardScaler()\n",
    "scaled_data[scale_cols] = scaler.fit_transform(scaled_data[scale_cols])"
   ]
  },
  {
   "cell_type": "code",
   "execution_count": 4,
   "metadata": {},
   "outputs": [
    {
     "name": "stdout",
     "output_type": "stream",
     "text": [
      "(9764026, 54)\n"
     ]
    }
   ],
   "source": [
    "# 스케일 된 게임 데이터와 추천 데이터 다시 합치기\n",
    "merged_data = pd.merge(recommend_datas, scaled_data, on='app_id')\n",
    "print(merged_data.shape)"
   ]
  },
  {
   "cell_type": "markdown",
   "metadata": {},
   "source": [
    "## 테스트 데이터 분리"
   ]
  },
  {
   "cell_type": "code",
   "execution_count": 6,
   "metadata": {},
   "outputs": [],
   "source": [
    "from sklearn.model_selection import train_test_split\n",
    "\n",
    "Y = merged_data['is_recommended']\n",
    "X = merged_data.drop(['is_recommended'], axis=1)\n",
    "\n",
    "X_train, X_test, Y_train, Y_test = train_test_split(X, Y, test_size=0.2, random_state=156)\n",
    "\n",
    "X_colums = merged_data.columns.drop(['is_recommended'])\n",
    "df_X_train = pd.DataFrame(X_train , columns=X_colums)\n",
    "df_Y_train = pd.DataFrame(Y_train, columns=['is_recommended'])\n",
    "df_X_test = pd.DataFrame(X_test, columns=X_colums)\n",
    "df_Y_test = pd.DataFrame(Y_test, columns=['is_recommended'])"
   ]
  },
  {
   "cell_type": "code",
   "execution_count": 34,
   "metadata": {},
   "outputs": [
    {
     "name": "stdout",
     "output_type": "stream",
     "text": [
      "[0 0 1]\n",
      "1.0\n"
     ]
    }
   ],
   "source": [
    "\n",
    "from sklearn.tree import DecisionTreeClassifier\n",
    "\n",
    "# 특정 유저 아이디에 대한 추천 게임 예측\n",
    "# 각 유저별로 decision tree를 만들어서 예측\n",
    "\n",
    "# 유저 아이디를 입력받아서 해당 유저의 추천 데이터만 추출\n",
    "target_user_id = 10178125\n",
    "\n",
    "train_indices = df_X_train.index[df_X_train['user_id'] == target_user_id].tolist()\n",
    "X_target_train = df_X_train.loc[train_indices]\n",
    "Y_target_train = df_Y_train.loc[train_indices]\n",
    "\n",
    "test_indices = df_X_test.index[df_X_test['user_id'] == target_user_id].tolist()\n",
    "X_target_test = df_X_test.loc[test_indices]\n",
    "Y_target_test = df_Y_test.loc[test_indices]\n",
    "\n",
    "# 모델 학습\n",
    "model = DecisionTreeClassifier(max_depth=5, random_state=0)\n",
    "model.fit(X_target_train, Y_target_train)\n",
    "\n",
    "#예측\n",
    "print(model.predict(X_target_test))\n",
    "print(model.score(X_target_train, Y_target_train))"
   ]
  }
 ],
 "metadata": {
  "kernelspec": {
   "display_name": "base",
   "language": "python",
   "name": "python3"
  },
  "language_info": {
   "codemirror_mode": {
    "name": "ipython",
    "version": 3
   },
   "file_extension": ".py",
   "mimetype": "text/x-python",
   "name": "python",
   "nbconvert_exporter": "python",
   "pygments_lexer": "ipython3",
   "version": "3.10.8"
  }
 },
 "nbformat": 4,
 "nbformat_minor": 2
}
