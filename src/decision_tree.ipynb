{
 "cells": [
  {
   "cell_type": "markdown",
   "metadata": {},
   "source": [
    "---\n",
    "디시전 트리로 추천/비추천 예측\n",
    "방법 1. User마다 decision tree 모델을 하나씩 갖는다.\n",
    "방법 2. user각자 고려하지 않고, user_id도 feature로 사용한다\n",
    "\n",
    "X - games features\n",
    "Y - 추천 여부"
   ]
  },
  {
   "cell_type": "code",
   "execution_count": 34,
   "metadata": {},
   "outputs": [
    {
     "name": "stdout",
     "output_type": "stream",
     "text": [
      "(46365, 56)\n",
      "   app_id  date_release  win  mac  linux  rating  positive_ratio  \\\n",
      "0  552520    1522022400    1    0      0       7              80   \n",
      "1  552520    1522022400    1    0      0       7              80   \n",
      "2  552520    1522022400    1    0      0       7              80   \n",
      "3  552520    1522022400    1    0      0       7              80   \n",
      "4  552520    1522022400    1    0      0       7              80   \n",
      "\n",
      "   user_reviews  price_final  price_original  ...  RPG  Indie  \\\n",
      "0        129943         60.0             0.0  ...    0      0   \n",
      "1        129943         60.0             0.0  ...    0      0   \n",
      "2        129943         60.0             0.0  ...    0      0   \n",
      "3        129943         60.0             0.0  ...    0      0   \n",
      "4        129943         60.0             0.0  ...    0      0   \n",
      "\n",
      "   Software Training  Simulation  Game Development  Massively Multiplayer  \\\n",
      "0                  0           0                 0                      0   \n",
      "1                  0           0                 0                      0   \n",
      "2                  0           0                 0                      0   \n",
      "3                  0           0                 0                      0   \n",
      "4                  0           0                 0                      0   \n",
      "\n",
      "   Early Access  Nudity  Strategy  Violent  \n",
      "0             0       0         0        0  \n",
      "1             0       0         0        0  \n",
      "2             0       0         0        0  \n",
      "3             0       0         0        0  \n",
      "4             0       0         0        0  \n",
      "\n",
      "[5 rows x 56 columns]\n",
      "Index(['app_id', 'date_release', 'win', 'mac', 'linux', 'rating',\n",
      "       'positive_ratio', 'user_reviews', 'price_final', 'price_original',\n",
      "       'discount', 'steam_deck', 'helpful', 'funny', 'date', 'is_recommended',\n",
      "       'hours', 'user_id', 'review_id', 'required_age', 'achievements',\n",
      "       'positive_ratings', 'negative_ratings', 'average_playtime',\n",
      "       'median_playtime', 'owners', 'price', 'Free to Play', 'Action',\n",
      "       'Utilities', 'Animation & Modeling', 'Photo Editing', 'Education',\n",
      "       'Sports', 'Audio Production', 'Casual', 'Web Publishing', 'Accounting',\n",
      "       'Documentary', 'Sexual Content', 'Adventure', 'Video Production',\n",
      "       'Design & Illustration', 'Racing', 'Gore', 'Tutorial', 'RPG', 'Indie',\n",
      "       'Software Training', 'Simulation', 'Game Development',\n",
      "       'Massively Multiplayer', 'Early Access', 'Nudity', 'Strategy',\n",
      "       'Violent'],\n",
      "      dtype='object')\n",
      "app_id                     int64\n",
      "date_release               int64\n",
      "win                        int64\n",
      "mac                        int64\n",
      "linux                      int64\n",
      "rating                     int64\n",
      "positive_ratio             int64\n",
      "user_reviews               int64\n",
      "price_final              float64\n",
      "price_original           float64\n",
      "discount                 float64\n",
      "steam_deck                 int64\n",
      "helpful                    int64\n",
      "funny                      int64\n",
      "date                       int64\n",
      "is_recommended             int64\n",
      "hours                    float64\n",
      "user_id                    int64\n",
      "review_id                  int64\n",
      "required_age               int64\n",
      "achievements               int64\n",
      "positive_ratings           int64\n",
      "negative_ratings           int64\n",
      "average_playtime           int64\n",
      "median_playtime            int64\n",
      "owners                     int64\n",
      "price                    float64\n",
      "Free to Play               int64\n",
      "Action                     int64\n",
      "Utilities                  int64\n",
      "Animation & Modeling       int64\n",
      "Photo Editing              int64\n",
      "Education                  int64\n",
      "Sports                     int64\n",
      "Audio Production           int64\n",
      "Casual                     int64\n",
      "Web Publishing             int64\n",
      "Accounting                 int64\n",
      "Documentary                int64\n",
      "Sexual Content             int64\n",
      "Adventure                  int64\n",
      "Video Production           int64\n",
      "Design & Illustration      int64\n",
      "Racing                     int64\n",
      "Gore                       int64\n",
      "Tutorial                   int64\n",
      "RPG                        int64\n",
      "Indie                      int64\n",
      "Software Training          int64\n",
      "Simulation                 int64\n",
      "Game Development           int64\n",
      "Massively Multiplayer      int64\n",
      "Early Access               int64\n",
      "Nudity                     int64\n",
      "Strategy                   int64\n",
      "Violent                    int64\n",
      "dtype: object\n",
      "              app_id  date_release      win           mac         linux  \\\n",
      "count   46365.000000  4.636500e+04  46365.0  46365.000000  46365.000000   \n",
      "mean   336570.117761  1.445352e+09      1.0      0.540041      0.390424   \n",
      "std    244014.483577  1.099198e+08      0.0      0.498400      0.487851   \n",
      "min       220.000000  1.099267e+09      1.0      0.000000      0.000000   \n",
      "25%    227300.000000  1.382486e+09      1.0      0.000000      0.000000   \n",
      "50%    294100.000000  1.461197e+09      1.0      1.000000      0.000000   \n",
      "75%    431960.000000  1.525046e+09      1.0      1.000000      1.000000   \n",
      "max    960090.000000  1.655683e+09      1.0      1.000000      1.000000   \n",
      "\n",
      "             rating  positive_ratio  user_reviews   price_final  \\\n",
      "count  46365.000000    46365.000000  4.636500e+04  46365.000000   \n",
      "mean       7.408476       91.170236  4.508574e+05     20.663461   \n",
      "std        0.631897        6.810820  7.748552e+05     16.202658   \n",
      "min        4.000000       57.000000  1.037200e+05      0.000000   \n",
      "25%        7.000000       86.000000  1.647020e+05     10.000000   \n",
      "50%        7.000000       94.000000  2.304070e+05     20.000000   \n",
      "75%        8.000000       96.000000  5.421980e+05     30.000000   \n",
      "max        8.000000       98.000000  7.494460e+06     60.000000   \n",
      "\n",
      "       price_original  ...           RPG         Indie  Software Training  \\\n",
      "count    46365.000000  ...  46365.000000  46365.000000            46365.0   \n",
      "mean         0.459143  ...      0.281721      0.302836                0.0   \n",
      "std          2.472455  ...      0.449843      0.459490                0.0   \n",
      "min          0.000000  ...      0.000000      0.000000                0.0   \n",
      "25%          0.000000  ...      0.000000      0.000000                0.0   \n",
      "50%          0.000000  ...      0.000000      0.000000                0.0   \n",
      "75%          0.000000  ...      1.000000      1.000000                0.0   \n",
      "max         19.990000  ...      1.000000      1.000000                0.0   \n",
      "\n",
      "         Simulation  Game Development  Massively Multiplayer  Early Access  \\\n",
      "count  46365.000000           46365.0           46365.000000  46365.000000   \n",
      "mean       0.203947               0.0               0.080751      0.122765   \n",
      "std        0.402934               0.0               0.272455      0.328171   \n",
      "min        0.000000               0.0               0.000000      0.000000   \n",
      "25%        0.000000               0.0               0.000000      0.000000   \n",
      "50%        0.000000               0.0               0.000000      0.000000   \n",
      "75%        0.000000               0.0               0.000000      0.000000   \n",
      "max        1.000000               0.0               1.000000      1.000000   \n",
      "\n",
      "             Nudity      Strategy       Violent  \n",
      "count  46365.000000  46365.000000  46365.000000  \n",
      "mean       0.011258      0.136676      0.011258  \n",
      "std        0.105508      0.343509      0.105508  \n",
      "min        0.000000      0.000000      0.000000  \n",
      "25%        0.000000      0.000000      0.000000  \n",
      "50%        0.000000      0.000000      0.000000  \n",
      "75%        0.000000      0.000000      0.000000  \n",
      "max        1.000000      1.000000      1.000000  \n",
      "\n",
      "[8 rows x 56 columns]\n"
     ]
    }
   ],
   "source": [
    "# 데이터셋 로드 및 불필요한 column 제거\n",
    "import numpy as np\n",
    "import pandas as pd\n",
    "import warnings\n",
    "warnings.filterwarnings(action='ignore')\n",
    "\n",
    "\n",
    "# Load the data\n",
    "data = pd.read_csv('../datasets/merged_steam_games_.csv')\n",
    "\n",
    "# convert date_realese columns to unixtime\n",
    "data['date_release'] = pd.to_datetime(data['date_release'])\n",
    "data['date_release'] = data['date_release'].apply(lambda x: int(x.timestamp()))\n",
    "\n",
    "data['date'] = pd.to_datetime(data['date'])\n",
    "data['date'] = data['date'].apply(lambda x: int(x.timestamp()))\n",
    "\n",
    "ids = pd.DataFrame(data['app_id'])\n",
    "# data = data.drop(['app_id'], axis=1)\n",
    "\n",
    "# 전처리 안된 column 제거\n",
    "data = data.drop(['categories'], axis=1)\n",
    "\n",
    "data = data.drop(['title'], axis=1)\n",
    "data = data.drop(['release_date'], axis=1)  \n",
    "\n",
    "print(data.shape)\n",
    "print(data.head())\n",
    "print(data.columns)\n",
    "print(data.dtypes)\n",
    "print(data.describe())\n"
   ]
  },
  {
   "cell_type": "code",
   "execution_count": 35,
   "metadata": {},
   "outputs": [],
   "source": [
    "# 데이터셋에서 게임 데이터 분할\n",
    "recommend_columns = ['app_id','helpful', 'funny', 'date', 'is_recommended', 'hours',\n",
    "       'user_id']\n",
    "\n",
    "recommend_datas = data[recommend_columns]\n",
    "\n",
    "game_infos = data.drop(recommend_columns[1:], axis=1)"
   ]
  },
  {
   "cell_type": "markdown",
   "metadata": {},
   "source": [
    "## Scailing"
   ]
  },
  {
   "cell_type": "code",
   "execution_count": 36,
   "metadata": {},
   "outputs": [
    {
     "name": "stdout",
     "output_type": "stream",
     "text": [
      "[552520 242760 444200 255710    220 594650 582010    550 271590 294100\n",
      " 107410 292030 105600 438100 252490    570 377160  22380 239140 812140\n",
      " 632360 221100 270880 251570 289070 238960 108600 548430 367520    730\n",
      " 264710 646570 275850 230410 413150 359550 218620 435150    620 648800\n",
      " 518790 444090 960090   4000 489830 381210 311210 374320  12210    240\n",
      "    440  48700  49520 203160 227300 236390 262060 284160 291550 304930\n",
      " 306130 319630 322330 346110 379720 391540 394360 578080 431960 427520\n",
      " 814380 945360 477160 250900]\n"
     ]
    }
   ],
   "source": [
    "from sklearn.preprocessing import StandardScaler\n",
    "scaled_data = game_infos.copy()\n",
    "scale_cols = ['date_release','positive_ratio','user_reviews','price_final','price_original', 'required_age', 'achievements', 'positive_ratings', 'negative_ratings', \n",
    "              'average_playtime', 'median_playtime', 'owners', 'price',]\n",
    "# scale_cols = [col for col in scaled_data.columns if col not in no_scale_cols]\n",
    "unique_values = ids['app_id'].unique()\n",
    "print(unique_values)\n",
    "\n",
    "index_positions = [ids[ids['app_id'] == value].index[0] for value in unique_values]\n",
    "\n",
    "scaled_data = game_infos.iloc[index_positions]\n",
    "\n",
    "# Scale the data\n",
    "scaler = StandardScaler()\n",
    "scaled_data[scale_cols] = scaler.fit_transform(scaled_data[scale_cols])"
   ]
  },
  {
   "cell_type": "code",
   "execution_count": 37,
   "metadata": {},
   "outputs": [
    {
     "name": "stdout",
     "output_type": "stream",
     "text": [
      "(46365, 56)\n"
     ]
    }
   ],
   "source": [
    "# 스케일 된 게임 데이터와 추천 데이터 다시 합치기\n",
    "merged_data = pd.merge(recommend_datas, scaled_data, on='app_id')\n",
    "print(merged_data.shape)"
   ]
  },
  {
   "cell_type": "markdown",
   "metadata": {},
   "source": [
    "## 테스트 데이터 분리"
   ]
  },
  {
   "cell_type": "code",
   "execution_count": 38,
   "metadata": {},
   "outputs": [],
   "source": [
    "from sklearn.model_selection import train_test_split\n",
    "\n",
    "Y = merged_data['is_recommended']\n",
    "X = merged_data.drop(['is_recommended'], axis=1)\n",
    "\n",
    "X_train, X_test, Y_train, Y_test = train_test_split(X, Y, test_size=0.2, random_state=156)\n",
    "\n",
    "X_colums = merged_data.columns.drop(['is_recommended'])\n",
    "df_X_train = pd.DataFrame(X_train , columns=X_colums)\n",
    "df_Y_train = pd.DataFrame(Y_train, columns=['is_recommended'])\n",
    "df_X_test = pd.DataFrame(X_test, columns=X_colums)\n",
    "df_Y_test = pd.DataFrame(Y_test, columns=['is_recommended'])"
   ]
  },
  {
   "cell_type": "code",
   "execution_count": 39,
   "metadata": {},
   "outputs": [],
   "source": [
    "\n",
    "from sklearn.metrics import accuracy_score, precision_score, recall_score, f1_score, confusion_matrix\n",
    "from sklearn.tree import DecisionTreeClassifier\n",
    "\n",
    "# 특정 유저 아이디에 대한 추천 게임 예측\n",
    "# 각 유저별로 decision tree를 만들어서 예측\n",
    "\n",
    "# 유저 아이디를 입력받아서 해당 유저의 추천 데이터만 추출\n",
    "\n",
    "def predict(target_user_id):\n",
    "    train_indices = df_X_train.index[df_X_train['user_id'] == target_user_id].tolist()\n",
    "    X_target_train = df_X_train.loc[train_indices]\n",
    "    Y_target_train = df_Y_train.loc[train_indices]\n",
    "\n",
    "    test_indices = df_X_test.index[df_X_test['user_id'] == target_user_id].tolist()\n",
    "    X_target_test = df_X_test.loc[test_indices]\n",
    "    Y_target_test = df_Y_test.loc[test_indices]\n",
    "\n",
    "    if X_target_train.empty or X_target_test.empty:\n",
    "        return [], 0, 0, 0, 0, []\n",
    "    # 모델 학습\n",
    "    model = DecisionTreeClassifier(max_depth=5, random_state=0)\n",
    "    model.fit(X_target_train, Y_target_train)\n",
    "    \n",
    "    # 모델 예측\n",
    "    y_pred = model.predict(X_target_test)\n",
    "    \n",
    "    # 성능 측정 지표 계산\n",
    "    accuracy = accuracy_score(Y_target_test, y_pred)\n",
    "    precision = precision_score(Y_target_test, y_pred)\n",
    "    recall = recall_score(Y_target_test, y_pred)\n",
    "    f1 = f1_score(Y_target_test, y_pred)\n",
    "    conf_matrix = confusion_matrix(Y_target_test, y_pred)\n",
    "    \n",
    "    # 결과 출력\n",
    "    return y_pred, accuracy, precision, recall, f1, conf_matrix"
   ]
  },
  {
   "cell_type": "code",
   "execution_count": 55,
   "metadata": {},
   "outputs": [
    {
     "name": "stdout",
     "output_type": "stream",
     "text": [
      "accuracy:  0.8828418506828408\n",
      "precision:  0.8937452533977172\n",
      "recall:  0.9014836706576768\n",
      "f1:  0.8891210141388671\n",
      "confusion matrix:  [[ 121.  546.]\n",
      " [ 542. 1220.]]\n"
     ]
    }
   ],
   "source": [
    "accuracy_list = []\n",
    "precision_list = []\n",
    "recall_list = []\n",
    "f1_list = []\n",
    "cf = np.zeros((2,2))\n",
    "\n",
    "for user_id in df_X_test['user_id'].unique():\n",
    "    y_pred, accuracy, precision, recall, f1, conf_matrix = predict(user_id)\n",
    "    conf_matrix = np.array(conf_matrix)\n",
    "    accuracy_list.append(accuracy)\n",
    "    precision_list.append(precision)\n",
    "    recall_list.append(recall)\n",
    "    f1_list.append(f1)\n",
    "    if conf_matrix.ndim == 1:\n",
    "        conf_matrix = np.array([conf_matrix])\n",
    "    \n",
    "    # 확인: conf_matrix의 크기가 2x2이고, cf에 누적\n",
    "    if conf_matrix.shape == (2, 2):\n",
    "        cf += conf_matrix\n",
    "    \n",
    "print('accuracy: ', np.mean(accuracy_list))\n",
    "print('precision: ', np.mean(precision_list))\n",
    "print('recall: ', np.mean(recall_list))\n",
    "print('f1: ', np.mean(f1_list))\n",
    "print('confusion matrix: ', cf)\n",
    "\n"
   ]
  },
  {
   "cell_type": "code",
   "execution_count": 61,
   "metadata": {},
   "outputs": [
    {
     "data": {
      "text/plain": [
       "<Axes: >"
      ]
     },
     "execution_count": 61,
     "metadata": {},
     "output_type": "execute_result"
    },
    {
     "data": {
      "image/png": "[encoded data removed]",
      "text/plain": [
       "<Figure size 640x480 with 2 Axes>"
      ]
     },
     "metadata": {},
     "output_type": "display_data"
    }
   ],
   "source": [
    "import seaborn as sns\n",
    "\n",
    "sns.heatmap(cf, annot=True, cmap='Blues', fmt='g')"
   ]
  }
 ],
 "metadata": {
  "kernelspec": {
   "display_name": "base",
   "language": "python",
   "name": "python3"
  },
  "language_info": {
   "codemirror_mode": {
    "name": "ipython",
    "version": 3
   },
   "file_extension": ".py",
   "mimetype": "text/x-python",
   "name": "python",
   "nbconvert_exporter": "python",
   "pygments_lexer": "ipython3",
   "version": "3.10.8"
  }
 },
 "nbformat": 4,
 "nbformat_minor": 2
}
