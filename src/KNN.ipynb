{
 "cells": [
  {
   "cell_type": "markdown",
   "metadata": {},
   "source": [
    "# Predict by KNN\n",
    "\n",
    "- 게임 정보로 클러스터링(코사인 유사도 거리측정)\n",
    "- 유저의 추천 게임과 거리 가장 가까운 거리의 게임 추천\n",
    "\n",
    "## 알고리즘 순서\n",
    "- 데이터셋 로드\n",
    "- Scailing\n",
    "- 테스트 데이터 분리\n",
    "- KNN 학습 및 예측\n",
    "- Evaluate\n"
   ]
  },
  {
   "cell_type": "markdown",
   "metadata": {},
   "source": [
    "## 데이터셋 로드\n",
    "\n",
    "games와 recommend 데이터셋을 결합하여 해당 게임을 추천했는지, 안했는지 여부로"
   ]
  },
  {
   "cell_type": "code",
   "execution_count": 141,
   "metadata": {},
   "outputs": [
    {
     "name": "stdout",
     "output_type": "stream",
     "text": [
      "(46365, 56)\n",
      "   app_id  date_release  win  mac  linux  rating  positive_ratio  \\\n",
      "0  552520    1522022400    1    0      0       7              80   \n",
      "1  552520    1522022400    1    0      0       7              80   \n",
      "2  552520    1522022400    1    0      0       7              80   \n",
      "3  552520    1522022400    1    0      0       7              80   \n",
      "4  552520    1522022400    1    0      0       7              80   \n",
      "\n",
      "   user_reviews  price_final  price_original  ...  RPG  Indie  \\\n",
      "0        129943         60.0             0.0  ...    0      0   \n",
      "1        129943         60.0             0.0  ...    0      0   \n",
      "2        129943         60.0             0.0  ...    0      0   \n",
      "3        129943         60.0             0.0  ...    0      0   \n",
      "4        129943         60.0             0.0  ...    0      0   \n",
      "\n",
      "   Software Training  Simulation  Game Development  Massively Multiplayer  \\\n",
      "0                  0           0                 0                      0   \n",
      "1                  0           0                 0                      0   \n",
      "2                  0           0                 0                      0   \n",
      "3                  0           0                 0                      0   \n",
      "4                  0           0                 0                      0   \n",
      "\n",
      "   Early Access  Nudity  Strategy  Violent  \n",
      "0             0       0         0        0  \n",
      "1             0       0         0        0  \n",
      "2             0       0         0        0  \n",
      "3             0       0         0        0  \n",
      "4             0       0         0        0  \n",
      "\n",
      "[5 rows x 56 columns]\n",
      "Index(['app_id', 'date_release', 'win', 'mac', 'linux', 'rating',\n",
      "       'positive_ratio', 'user_reviews', 'price_final', 'price_original',\n",
      "       'discount', 'steam_deck', 'helpful', 'funny', 'date', 'is_recommended',\n",
      "       'hours', 'user_id', 'review_id', 'required_age', 'achievements',\n",
      "       'positive_ratings', 'negative_ratings', 'average_playtime',\n",
      "       'median_playtime', 'owners', 'price', 'Free to Play', 'Action',\n",
      "       'Utilities', 'Animation & Modeling', 'Photo Editing', 'Education',\n",
      "       'Sports', 'Audio Production', 'Casual', 'Web Publishing', 'Accounting',\n",
      "       'Documentary', 'Sexual Content', 'Adventure', 'Video Production',\n",
      "       'Design & Illustration', 'Racing', 'Gore', 'Tutorial', 'RPG', 'Indie',\n",
      "       'Software Training', 'Simulation', 'Game Development',\n",
      "       'Massively Multiplayer', 'Early Access', 'Nudity', 'Strategy',\n",
      "       'Violent'],\n",
      "      dtype='object')\n",
      "app_id                     int64\n",
      "date_release               int64\n",
      "win                        int64\n",
      "mac                        int64\n",
      "linux                      int64\n",
      "rating                     int64\n",
      "positive_ratio             int64\n",
      "user_reviews               int64\n",
      "price_final              float64\n",
      "price_original           float64\n",
      "discount                 float64\n",
      "steam_deck                 int64\n",
      "helpful                    int64\n",
      "funny                      int64\n",
      "date                       int64\n",
      "is_recommended             int64\n",
      "hours                    float64\n",
      "user_id                    int64\n",
      "review_id                  int64\n",
      "required_age               int64\n",
      "achievements               int64\n",
      "positive_ratings           int64\n",
      "negative_ratings           int64\n",
      "average_playtime           int64\n",
      "median_playtime            int64\n",
      "owners                     int64\n",
      "price                    float64\n",
      "Free to Play               int64\n",
      "Action                     int64\n",
      "Utilities                  int64\n",
      "Animation & Modeling       int64\n",
      "Photo Editing              int64\n",
      "Education                  int64\n",
      "Sports                     int64\n",
      "Audio Production           int64\n",
      "Casual                     int64\n",
      "Web Publishing             int64\n",
      "Accounting                 int64\n",
      "Documentary                int64\n",
      "Sexual Content             int64\n",
      "Adventure                  int64\n",
      "Video Production           int64\n",
      "Design & Illustration      int64\n",
      "Racing                     int64\n",
      "Gore                       int64\n",
      "Tutorial                   int64\n",
      "RPG                        int64\n",
      "Indie                      int64\n",
      "Software Training          int64\n",
      "Simulation                 int64\n",
      "Game Development           int64\n",
      "Massively Multiplayer      int64\n",
      "Early Access               int64\n",
      "Nudity                     int64\n",
      "Strategy                   int64\n",
      "Violent                    int64\n",
      "dtype: object\n",
      "              app_id  date_release      win           mac         linux  \\\n",
      "count   46365.000000  4.636500e+04  46365.0  46365.000000  46365.000000   \n",
      "mean   336570.117761  1.445352e+09      1.0      0.540041      0.390424   \n",
      "std    244014.483577  1.099198e+08      0.0      0.498400      0.487851   \n",
      "min       220.000000  1.099267e+09      1.0      0.000000      0.000000   \n",
      "25%    227300.000000  1.382486e+09      1.0      0.000000      0.000000   \n",
      "50%    294100.000000  1.461197e+09      1.0      1.000000      0.000000   \n",
      "75%    431960.000000  1.525046e+09      1.0      1.000000      1.000000   \n",
      "max    960090.000000  1.655683e+09      1.0      1.000000      1.000000   \n",
      "\n",
      "             rating  positive_ratio  user_reviews   price_final  \\\n",
      "count  46365.000000    46365.000000  4.636500e+04  46365.000000   \n",
      "mean       7.408476       91.170236  4.508574e+05     20.663461   \n",
      "std        0.631897        6.810820  7.748552e+05     16.202658   \n",
      "min        4.000000       57.000000  1.037200e+05      0.000000   \n",
      "25%        7.000000       86.000000  1.647020e+05     10.000000   \n",
      "50%        7.000000       94.000000  2.304070e+05     20.000000   \n",
      "75%        8.000000       96.000000  5.421980e+05     30.000000   \n",
      "max        8.000000       98.000000  7.494460e+06     60.000000   \n",
      "\n",
      "       price_original  ...           RPG         Indie  Software Training  \\\n",
      "count    46365.000000  ...  46365.000000  46365.000000            46365.0   \n",
      "mean         0.459143  ...      0.281721      0.302836                0.0   \n",
      "std          2.472455  ...      0.449843      0.459490                0.0   \n",
      "min          0.000000  ...      0.000000      0.000000                0.0   \n",
      "25%          0.000000  ...      0.000000      0.000000                0.0   \n",
      "50%          0.000000  ...      0.000000      0.000000                0.0   \n",
      "75%          0.000000  ...      1.000000      1.000000                0.0   \n",
      "max         19.990000  ...      1.000000      1.000000                0.0   \n",
      "\n",
      "         Simulation  Game Development  Massively Multiplayer  Early Access  \\\n",
      "count  46365.000000           46365.0           46365.000000  46365.000000   \n",
      "mean       0.203947               0.0               0.080751      0.122765   \n",
      "std        0.402934               0.0               0.272455      0.328171   \n",
      "min        0.000000               0.0               0.000000      0.000000   \n",
      "25%        0.000000               0.0               0.000000      0.000000   \n",
      "50%        0.000000               0.0               0.000000      0.000000   \n",
      "75%        0.000000               0.0               0.000000      0.000000   \n",
      "max        1.000000               0.0               1.000000      1.000000   \n",
      "\n",
      "             Nudity      Strategy       Violent  \n",
      "count  46365.000000  46365.000000  46365.000000  \n",
      "mean       0.011258      0.136676      0.011258  \n",
      "std        0.105508      0.343509      0.105508  \n",
      "min        0.000000      0.000000      0.000000  \n",
      "25%        0.000000      0.000000      0.000000  \n",
      "50%        0.000000      0.000000      0.000000  \n",
      "75%        0.000000      0.000000      0.000000  \n",
      "max        1.000000      1.000000      1.000000  \n",
      "\n",
      "[8 rows x 56 columns]\n"
     ]
    }
   ],
   "source": [
    "# 데이터셋 로드 및 불필요한 column 제거\n",
    "import numpy as np\n",
    "import pandas as pd\n",
    "\n",
    "# Load the data\n",
    "data = pd.read_csv('../datasets/merged_steam_games_.csv')\n",
    "\n",
    "# convert date_realese columns to unixtime\n",
    "data['date_release'] = pd.to_datetime(data['date_release'])\n",
    "data['date_release'] = data['date_release'].apply(lambda x: int(x.timestamp()))\n",
    "\n",
    "data['date'] = pd.to_datetime(data['date'])\n",
    "data['date'] = data['date'].apply(lambda x: int(x.timestamp()))\n",
    "\n",
    "ids = pd.DataFrame(data['app_id'])\n",
    "# data = data.drop(['app_id'], axis=1)\n",
    "\n",
    "# 전처리 안된 column 제거\n",
    "data = data.drop(['categories'], axis=1)\n",
    "\n",
    "data = data.drop(['title'], axis=1)\n",
    "data = data.drop(['release_date'], axis=1)  \n",
    "\n",
    "print(data.shape)\n",
    "print(data.head())\n",
    "print(data.columns)\n",
    "print(data.dtypes)\n",
    "print(data.describe())\n"
   ]
  },
  {
   "cell_type": "code",
   "execution_count": 142,
   "metadata": {},
   "outputs": [],
   "source": [
    "# 데이터셋에서 게임 데이터 분할\n",
    "recommend_columns = ['app_id','helpful', 'funny', 'date', 'is_recommended', 'hours',\n",
    "       'user_id']\n",
    "\n",
    "recommend_datas = data[recommend_columns]\n",
    "\n",
    "game_infos = data.drop(recommend_columns[1:], axis=1)"
   ]
  },
  {
   "cell_type": "markdown",
   "metadata": {},
   "source": [
    "## Scailing"
   ]
  },
  {
   "cell_type": "code",
   "execution_count": 143,
   "metadata": {},
   "outputs": [
    {
     "name": "stdout",
     "output_type": "stream",
     "text": [
      "[552520 242760 444200 255710    220 594650 582010    550 271590 294100\n",
      " 107410 292030 105600 438100 252490    570 377160  22380 239140 812140\n",
      " 632360 221100 270880 251570 289070 238960 108600 548430 367520    730\n",
      " 264710 646570 275850 230410 413150 359550 218620 435150    620 648800\n",
      " 518790 444090 960090   4000 489830 381210 311210 374320  12210    240\n",
      "    440  48700  49520 203160 227300 236390 262060 284160 291550 304930\n",
      " 306130 319630 322330 346110 379720 391540 394360 578080 431960 427520\n",
      " 814380 945360 477160 250900]\n"
     ]
    },
    {
     "name": "stderr",
     "output_type": "stream",
     "text": [
      "/var/folders/tr/1pblcvrd48j5lfn0khj_hm4w0000gn/T/ipykernel_37088/3791647812.py:15: SettingWithCopyWarning: \n",
      "A value is trying to be set on a copy of a slice from a DataFrame.\n",
      "Try using .loc[row_indexer,col_indexer] = value instead\n",
      "\n",
      "See the caveats in the documentation: https://pandas.pydata.org/pandas-docs/stable/user_guide/indexing.html#returning-a-view-versus-a-copy\n",
      "  scaled_data[scale_cols] = scaler.fit_transform(scaled_data[scale_cols])\n"
     ]
    }
   ],
   "source": [
    "from sklearn.preprocessing import StandardScaler\n",
    "scaled_data = game_infos.copy()\n",
    "scale_cols = ['date_release','positive_ratio','user_reviews','price_final','price_original', 'required_age', 'achievements', 'positive_ratings', 'negative_ratings', \n",
    "              'average_playtime', 'median_playtime', 'owners', 'price',]\n",
    "# scale_cols = [col for col in scaled_data.columns if col not in no_scale_cols]\n",
    "unique_values = ids['app_id'].unique()\n",
    "print(unique_values)\n",
    "\n",
    "index_positions = [ids[ids['app_id'] == value].index[0] for value in unique_values]\n",
    "\n",
    "scaled_data = game_infos.iloc[index_positions]\n",
    "\n",
    "# Scale the data\n",
    "scaler = StandardScaler()\n",
    "scaled_data[scale_cols] = scaler.fit_transform(scaled_data[scale_cols])"
   ]
  },
  {
   "cell_type": "markdown",
   "metadata": {},
   "source": [
    "## 테스트 데이터 분리"
   ]
  },
  {
   "cell_type": "code",
   "execution_count": 144,
   "metadata": {},
   "outputs": [],
   "source": [
    "from sklearn.model_selection import train_test_split\n",
    "# Split the data into train and test sets\n",
    "# train_x, test_x = train_test_split(scaled_data)"
   ]
  },
  {
   "cell_type": "markdown",
   "metadata": {},
   "source": [
    "# KNN 학습\n",
    "\n",
    " 최종적으로는 knn결과(distances, indices를 csv형식으로 저장하여 학습 절차를 skip한다)\n",
    " \n",
    " distances = k개의 이웃간의 거리, indices = k개의 이웃 인덱스"
   ]
  },
  {
   "cell_type": "code",
   "execution_count": 145,
   "metadata": {},
   "outputs": [],
   "source": [
    "from sklearn.neighbors import NearestNeighbors\n",
    "import joblib\n",
    "\n",
    "knn = NearestNeighbors(n_neighbors=5, algorithm='brute', metric='cosine')\n",
    "knn.fit(scaled_data)\n",
    "\n",
    "distances, indices = knn.kneighbors(scaled_data, n_neighbors=3)"
   ]
  },
  {
   "cell_type": "code",
   "execution_count": 146,
   "metadata": {},
   "outputs": [
    {
     "name": "stdout",
     "output_type": "stream",
     "text": [
      "(74, 3)\n",
      "(74, 3)\n"
     ]
    },
    {
     "data": {
      "text/plain": [
       "['./models/knn_indices.pkl']"
      ]
     },
     "execution_count": 146,
     "metadata": {},
     "output_type": "execute_result"
    }
   ],
   "source": [
    "print(distances.shape)\n",
    "print(indices.shape)\n",
    "save_distances = pd.concat([pd.DataFrame(unique_values, columns=['app_id']), pd.DataFrame(distances)], axis=1)\n",
    "indices_mapping = pd.DataFrame(indices)\n",
    "indices_mapping = indices_mapping.applymap(lambda x: unique_values[x])\n",
    "save_indices = pd.concat([pd.DataFrame(unique_values, columns=['app_id']), indices_mapping], axis=1)\n",
    "\n",
    "joblib.dump(knn, './models/knn_model.pkl')\n",
    "joblib.dump(save_distances, './models/knn_distances.pkl')\n",
    "joblib.dump(save_indices, './models/knn_indices.pkl')"
   ]
  },
  {
   "cell_type": "markdown",
   "metadata": {},
   "source": [
    "## Recommendation 데이터 기반 게임 추천"
   ]
  },
  {
   "cell_type": "code",
   "execution_count": 147,
   "metadata": {},
   "outputs": [
    {
     "name": "stdout",
     "output_type": "stream",
     "text": [
      "   app_id                 title\n",
      "0  552520            Far Cry® 5\n",
      "1  242760            The Forest\n",
      "2  444200  World of Tanks Blitz\n",
      "3  255710      Cities: Skylines\n",
      "4     220           Half-Life 2\n",
      "   app_id             0             1             2\n",
      "0  552520  0.000000e+00  5.738877e-05  8.021221e-05\n",
      "1  242760  0.000000e+00  6.910418e-07  5.164527e-06\n",
      "2  444200  0.000000e+00  2.057032e-08  4.982731e-07\n",
      "3  255710  1.110223e-16  2.115668e-08  2.283684e-06\n",
      "4     220  3.330669e-16  1.094936e-10  2.882450e-09\n",
      "   app_id       0       1       2\n",
      "0  552520  552520  477160  646570\n",
      "1  242760  242760  238960  582010\n",
      "2  444200  444200  444090  646570\n",
      "3  255710  255710  108600  270880\n",
      "4     220     220     240     620\n"
     ]
    }
   ],
   "source": [
    "# Load the trained model\n",
    "loaded_distances = pd.DataFrame(joblib.load('./models/knn_distances.pkl'))\n",
    "loaded_indices = pd.DataFrame(joblib.load('./models/knn_indices.pkl'))\n",
    "\n",
    "title = pd.read_csv('../datasets/preprocessed_games.csv')\n",
    "title = title[['app_id', 'title']]\n",
    "id_title = pd.merge(pd.DataFrame(unique_values, columns=['app_id']), title, on='app_id', how='inner')\n",
    "\n",
    "print(id_title.head())\n",
    "print(loaded_distances.head())\n",
    "print(loaded_indices.head())"
   ]
  },
  {
   "cell_type": "code",
   "execution_count": 149,
   "metadata": {},
   "outputs": [
    {
     "data": {
      "text/html": [
       "<div>\n",
       "<style scoped>\n",
       "    .dataframe tbody tr th:only-of-type {\n",
       "        vertical-align: middle;\n",
       "    }\n",
       "\n",
       "    .dataframe tbody tr th {\n",
       "        vertical-align: top;\n",
       "    }\n",
       "\n",
       "    .dataframe thead th {\n",
       "        text-align: right;\n",
       "    }\n",
       "</style>\n",
       "<table border=\"1\" class=\"dataframe\">\n",
       "  <thead>\n",
       "    <tr style=\"text-align: right;\">\n",
       "      <th></th>\n",
       "      <th>app_id</th>\n",
       "      <th>helpful</th>\n",
       "      <th>funny</th>\n",
       "      <th>date</th>\n",
       "      <th>is_recommended</th>\n",
       "      <th>hours</th>\n",
       "      <th>user_id</th>\n",
       "    </tr>\n",
       "  </thead>\n",
       "  <tbody>\n",
       "    <tr>\n",
       "      <th>0</th>\n",
       "      <td>552520</td>\n",
       "      <td>7</td>\n",
       "      <td>0</td>\n",
       "      <td>1581120000</td>\n",
       "      <td>1</td>\n",
       "      <td>60.6</td>\n",
       "      <td>7606333</td>\n",
       "    </tr>\n",
       "    <tr>\n",
       "      <th>1</th>\n",
       "      <td>552520</td>\n",
       "      <td>2</td>\n",
       "      <td>0</td>\n",
       "      <td>1595203200</td>\n",
       "      <td>1</td>\n",
       "      <td>38.8</td>\n",
       "      <td>11805207</td>\n",
       "    </tr>\n",
       "    <tr>\n",
       "      <th>2</th>\n",
       "      <td>552520</td>\n",
       "      <td>0</td>\n",
       "      <td>0</td>\n",
       "      <td>1615680000</td>\n",
       "      <td>1</td>\n",
       "      <td>61.0</td>\n",
       "      <td>10684038</td>\n",
       "    </tr>\n",
       "    <tr>\n",
       "      <th>3</th>\n",
       "      <td>552520</td>\n",
       "      <td>63</td>\n",
       "      <td>13</td>\n",
       "      <td>1595721600</td>\n",
       "      <td>1</td>\n",
       "      <td>17.9</td>\n",
       "      <td>751598</td>\n",
       "    </tr>\n",
       "    <tr>\n",
       "      <th>4</th>\n",
       "      <td>552520</td>\n",
       "      <td>67</td>\n",
       "      <td>12</td>\n",
       "      <td>1601942400</td>\n",
       "      <td>1</td>\n",
       "      <td>301.5</td>\n",
       "      <td>5432359</td>\n",
       "    </tr>\n",
       "  </tbody>\n",
       "</table>\n",
       "</div>"
      ],
      "text/plain": [
       "   app_id  helpful  funny        date  is_recommended  hours   user_id\n",
       "0  552520        7      0  1581120000               1   60.6   7606333\n",
       "1  552520        2      0  1595203200               1   38.8  11805207\n",
       "2  552520        0      0  1615680000               1   61.0  10684038\n",
       "3  552520       63     13  1595721600               1   17.9    751598\n",
       "4  552520       67     12  1601942400               1  301.5   5432359"
      ]
     },
     "execution_count": 149,
     "metadata": {},
     "output_type": "execute_result"
    }
   ],
   "source": [
    "recommend_datas.head()"
   ]
  },
  {
   "cell_type": "markdown",
   "metadata": {},
   "source": [
    "## Predict"
   ]
  },
  {
   "cell_type": "code",
   "execution_count": 150,
   "metadata": {},
   "outputs": [
    {
     "name": "stdout",
     "output_type": "stream",
     "text": [
      "   user_id  app_id                            title      distance\n",
      "9  7606333  306130        The Elder Scrolls® Online  6.147283e-08\n",
      "6  7606333  381210                 Dead by Daylight  1.972394e-07\n",
      "2  7606333  413150                   Stardew Valley  3.325829e-07\n",
      "7  7606333  284160                     BeamNG.drive  3.946931e-07\n",
      "3  7606333  359550  Tom Clancy's Rainbow Six® Siege  6.395513e-07\n",
      "   user_id  app_id                            title      distance\n",
      "9  7606333  306130        The Elder Scrolls® Online  6.147283e-08\n",
      "6  7606333  381210                 Dead by Daylight  1.972394e-07\n",
      "2  7606333  413150                   Stardew Valley  3.325829e-07\n",
      "7  7606333  284160                     BeamNG.drive  3.946931e-07\n",
      "3  7606333  359550  Tom Clancy's Rainbow Six® Siege  6.395513e-07\n"
     ]
    }
   ],
   "source": [
    "KNN_recommend_result = pd.DataFrame(columns=['user_id', 'app_id', 'title', 'distance'])\n",
    "# for user in recommend_datas['user_id'].unique():\n",
    "for user in [7606333]:\n",
    "    # 10번 유저 게임 추천\n",
    "    rec_list = recommend_datas.loc[(recommend_datas['user_id'] == user) & (recommend_datas['is_recommended'] == 1)]\n",
    "\n",
    "    # 10번 유저의 추천 게임과 유사한 K개 게임 추출\n",
    "    merged_idices = pd.merge(rec_list, loaded_indices, on='app_id')[[1, 2]]\n",
    "    merged_idices = merged_idices.values.flatten().tolist()\n",
    "\n",
    "    merged_distances = pd.merge(rec_list, loaded_distances, on='app_id')[[1, 2]]\n",
    "    merged_distances = merged_distances.values.flatten().tolist()\n",
    "\n",
    "    recommend_result = pd.merge(id_title, pd.DataFrame({'distance': merged_distances, 'app_id': merged_idices}), on=\"app_id\", how=\"inner\")\n",
    "    recommend_result = pd.concat([pd.DataFrame({'user_id' : [user] * recommend_result.shape[0]}), recommend_result], axis =1).sort_values(by='distance', ascending=True).iloc[:5]\n",
    "    \n",
    "    if recommend_datas.size != 0:\n",
    "        KNN_recommend_result = pd.concat([KNN_recommend_result, recommend_result])\n",
    "    print(KNN_recommend_result)\n",
    "    \n",
    "# joblib.dump(KNN_recommend_result, './models/knn_recommend_result.pkl')"
   ]
  },
  {
   "cell_type": "markdown",
   "metadata": {},
   "source": [
    "## Evaluate\n",
    "\n",
    "- recommendation에서 유저의 n%를 랜덤으로 제외\n",
    "- 나머지는 학습에 사용\n",
    "- 제외된 유저에서 n%의 데이터로 추천을 받는다.\n",
    "- 추천받은 데이터와 실제 데이터간 자카드 유사도 공식 계산\n"
   ]
  }
 ],
 "metadata": {
  "kernelspec": {
   "display_name": "base",
   "language": "python",
   "name": "python3"
  },
  "language_info": {
   "codemirror_mode": {
    "name": "ipython",
    "version": 3
   },
   "file_extension": ".py",
   "mimetype": "text/x-python",
   "name": "python",
   "nbconvert_exporter": "python",
   "pygments_lexer": "ipython3",
   "version": "3.10.8"
  }
 },
 "nbformat": 4,
 "nbformat_minor": 2
}
