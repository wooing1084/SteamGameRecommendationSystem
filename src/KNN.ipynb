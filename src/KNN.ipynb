{
 "cells": [
  {
   "cell_type": "markdown",
   "metadata": {},
   "source": [
    "# Predict by KNN\n",
    "\n",
    "- 게임 정보로 클러스터링(코사인 유사도 거리측정)\n",
    "- 유저의 추천 게임과 거리 가장 가까운 거리의 게임 추천\n",
    "\n",
    "## 알고리즘 순서\n",
    "- 데이터셋 로드\n",
    "- Scailing\n",
    "- 테스트 데이터 분리\n",
    "- KNN 학습 및 예측\n",
    "- Evaluate\n"
   ]
  },
  {
   "cell_type": "markdown",
   "metadata": {},
   "source": [
    "## 데이터셋 로드\n",
    "\n",
    "games와 recommend 데이터셋을 결합하여 해당 게임을 추천했는지, 안했는지 여부로"
   ]
  },
  {
   "cell_type": "code",
   "execution_count": 84,
   "metadata": {},
   "outputs": [
    {
     "name": "stdout",
     "output_type": "stream",
     "text": [
      "   app_id                              title\n",
      "0   13500  Prince of Persia: Warrior Within™\n",
      "1   22364            BRINK: Agents of Change\n",
      "2  113020       Monaco: What's Yours Is Mine\n",
      "3  226560                 Escape Dead Island\n",
      "4  249050            Dungeon of the ENDLESS™\n",
      "(50872, 11)\n",
      "   date_release  win  mac  linux  rating  positive_ratio  user_reviews  \\\n",
      "0    1227225600    1    0      0       7              84          2199   \n",
      "1    1312329600    1    0      0       5              85            21   \n",
      "2    1366761600    1    1      1       7              92          3722   \n",
      "3    1416268800    1    0      0       4              61           873   \n",
      "4    1414368000    1    1      0       7              88          8784   \n",
      "\n",
      "   price_final  price_original  discount  steam_deck  \n",
      "0         9.99            9.99       0.0           1  \n",
      "1         2.99            2.99       0.0           1  \n",
      "2        14.99           14.99       0.0           1  \n",
      "3        14.99           14.99       0.0           1  \n",
      "4        11.99           11.99       0.0           1  \n",
      "Index(['date_release', 'win', 'mac', 'linux', 'rating', 'positive_ratio',\n",
      "       'user_reviews', 'price_final', 'price_original', 'discount',\n",
      "       'steam_deck'],\n",
      "      dtype='object')\n",
      "date_release        int64\n",
      "win                 int64\n",
      "mac                 int64\n",
      "linux               int64\n",
      "rating              int64\n",
      "positive_ratio      int64\n",
      "user_reviews        int64\n",
      "price_final       float64\n",
      "price_original    float64\n",
      "discount          float64\n",
      "steam_deck          int64\n",
      "dtype: object\n",
      "       date_release           win           mac         linux        rating  \\\n",
      "count  5.087200e+04  50872.000000  50872.000000  50872.000000  50872.000000   \n",
      "mean   1.552449e+09      0.984353      0.255897      0.177721      5.387758   \n",
      "std    9.721150e+07      0.124107      0.436369      0.382281      1.366231   \n",
      "min    8.676288e+08      0.000000      0.000000      0.000000      0.000000   \n",
      "25%    1.490054e+09      1.000000      0.000000      0.000000      4.000000   \n",
      "50%    1.566518e+09      1.000000      0.000000      0.000000      5.000000   \n",
      "75%    1.632182e+09      1.000000      1.000000      0.000000      7.000000   \n",
      "max    1.698106e+09      1.000000      1.000000      1.000000      8.000000   \n",
      "\n",
      "       positive_ratio  user_reviews   price_final  price_original  \\\n",
      "count    50872.000000  5.087200e+04  50872.000000    50872.000000   \n",
      "mean        77.052033  1.824425e+03      8.620325        8.726788   \n",
      "std         18.253592  4.007352e+04     11.514164       11.507021   \n",
      "min          0.000000  1.000000e+01      0.000000        0.000000   \n",
      "25%         67.000000  1.900000e+01      0.990000        0.990000   \n",
      "50%         81.000000  4.900000e+01      4.990000        4.990000   \n",
      "75%         91.000000  2.060000e+02     10.990000       11.990000   \n",
      "max        100.000000  7.494460e+06    299.990000      299.990000   \n",
      "\n",
      "           discount    steam_deck  \n",
      "count  50872.000000  50872.000000  \n",
      "mean       5.592212      0.999961  \n",
      "std       18.606679      0.006270  \n",
      "min        0.000000      0.000000  \n",
      "25%        0.000000      1.000000  \n",
      "50%        0.000000      1.000000  \n",
      "75%        0.000000      1.000000  \n",
      "max       90.000000      1.000000  \n"
     ]
    }
   ],
   "source": [
    "\n",
    "import numpy as np\n",
    "import pandas as pd\n",
    "\n",
    "# Load the data\n",
    "data = pd.read_csv('../datasets/preprocessed_games.csv')\n",
    "\n",
    "data = data.drop(['Unnamed: 0'], axis=1)\n",
    "\n",
    "# convert date_realese columns to unixtime\n",
    "data['date_release'] = pd.to_datetime(data['date_release'])\n",
    "data['date_release'] = data['date_release'].apply(lambda x: int(x.timestamp()))\n",
    "\n",
    "ids = data['app_id']\n",
    "data = data.drop(['app_id'], axis=1)\n",
    "titles = data['title']\n",
    "data = data.drop(['title'], axis=1)\n",
    "id_title = pd.concat([ids, titles], axis=1)\n",
    "print(id_title.head())\n",
    "\n",
    "print(data.shape)\n",
    "print(data.head())\n",
    "print(data.columns)\n",
    "print(data.dtypes)\n",
    "print(data.describe())\n"
   ]
  },
  {
   "cell_type": "markdown",
   "metadata": {},
   "source": [
    "## Scailing"
   ]
  },
  {
   "cell_type": "code",
   "execution_count": 32,
   "metadata": {},
   "outputs": [
    {
     "name": "stdout",
     "output_type": "stream",
     "text": [
      "   date_release  win  mac  linux    rating  positive_ratio  user_reviews  \\\n",
      "0     -3.345559    1    0      0  1.180078        0.380639      0.009347   \n",
      "1     -2.470099    1    0      0 -0.283818        0.435424     -0.045003   \n",
      "2     -1.910159    1    1      1  1.180078        0.818914      0.047353   \n",
      "3     -1.400881    1    0      0 -1.015766       -0.879399     -0.023742   \n",
      "4     -1.420435    1    1      0  1.180078        0.599776      0.173672   \n",
      "\n",
      "   price_final  price_original  discount  steam_deck  \n",
      "0     0.118957        0.109779 -0.300552           1  \n",
      "1    -0.488996       -0.498552 -0.300552           1  \n",
      "2     0.553209        0.544300 -0.300552           1  \n",
      "3     0.553209        0.544300 -0.300552           1  \n",
      "4     0.292658        0.283587 -0.300552           1  \n"
     ]
    }
   ],
   "source": [
    "from sklearn.preprocessing import StandardScaler\n",
    "\n",
    "\n",
    "scaled_data = data.copy()\n",
    "no_scale_cols = ['app_id', 'title','win','mac','linux','steam_deck']\n",
    "scale_cols = [col for col in scaled_data.columns if col not in no_scale_cols]\n",
    "\n",
    "\n",
    "\n",
    "# Scale the data\n",
    "scaler = StandardScaler()\n",
    "scaled_data[scale_cols] = scaler.fit_transform(scaled_data[scale_cols])\n",
    "\n",
    "print(scaled_data.head())"
   ]
  },
  {
   "cell_type": "markdown",
   "metadata": {},
   "source": [
    "## 테스트 데이터 분리"
   ]
  },
  {
   "cell_type": "code",
   "execution_count": 33,
   "metadata": {},
   "outputs": [],
   "source": [
    "from sklearn.model_selection import train_test_split\n",
    "# Split the data into train and test sets\n",
    "# train_x, test_x = train_test_split(scaled_data)"
   ]
  },
  {
   "cell_type": "markdown",
   "metadata": {},
   "source": [
    "# KNN 학습\n",
    "\n",
    " 최종적으로는 knn결과(distances, indices를 csv형식으로 저장하여 학습 절차를 skip한다)\n",
    " \n",
    " distances = k개의 이웃간의 거리, indices = k개의 이웃 인덱스"
   ]
  },
  {
   "cell_type": "code",
   "execution_count": 93,
   "metadata": {},
   "outputs": [],
   "source": [
    "from sklearn.neighbors import NearestNeighbors\n",
    "import joblib\n",
    "\n",
    "knn = NearestNeighbors(n_neighbors=5, algorithm='brute', metric='cosine')\n",
    "knn.fit(scaled_data)\n",
    "\n",
    "distances, indices = knn.kneighbors(scaled_data, n_neighbors=3)"
   ]
  },
  {
   "cell_type": "code",
   "execution_count": 99,
   "metadata": {},
   "outputs": [
    {
     "name": "stdout",
     "output_type": "stream",
     "text": [
      "   app_id       0       1       2\n",
      "0   13500   13500   13600   12320\n",
      "1   22364   22364   44650   42964\n",
      "2  113020  113020  231160  210770\n",
      "3  226560  226560  315151  303470\n",
      "4  249050  249050  313160  320430\n"
     ]
    },
    {
     "data": {
      "text/plain": [
       "['./models/knn_indices.pkl']"
      ]
     },
     "execution_count": 99,
     "metadata": {},
     "output_type": "execute_result"
    }
   ],
   "source": [
    "save_distances = pd.concat([pd.DataFrame(ids), pd.DataFrame(distances)], axis=1)\n",
    "indices_mapping = pd.DataFrame(indices)\n",
    "indices_mapping = indices_mapping.applymap(lambda x: ids[x])\n",
    "save_indices = pd.concat([pd.DataFrame(ids), indices_mapping], axis=1)\n",
    "print(save_indices.head())\n",
    "\n",
    "joblib.dump(knn, './models/knn_model.pkl')\n",
    "joblib.dump(save_distances, './models/knn_distances.pkl')\n",
    "joblib.dump(save_indices, './models/knn_indices.pkl')"
   ]
  },
  {
   "cell_type": "markdown",
   "metadata": {},
   "source": [
    "## Recommendation 데이터셋 기반 게임 추천"
   ]
  },
  {
   "cell_type": "code",
   "execution_count": 100,
   "metadata": {},
   "outputs": [
    {
     "name": "stdout",
     "output_type": "stream",
     "text": [
      "    app_id  helpful  funny        date  is_recommended  hours  user_id  \\\n",
      "0   975370        0      0  2022-12-12               1   36.3    49618   \n",
      "1   304390        4      0  2017-02-17               0   11.5     2482   \n",
      "2  1085660        2      0  2019-11-17               1  336.5   243365   \n",
      "3   703080        0      0  2022-09-23               1   27.4   248653   \n",
      "4   526870        0      0  2021-01-10               1    7.9    22898   \n",
      "\n",
      "   review_id  \n",
      "0          0  \n",
      "1          1  \n",
      "2          2  \n",
      "3          3  \n",
      "4          4  \n",
      "(38347614, 8)\n",
      "Index(['app_id', 'helpful', 'funny', 'date', 'is_recommended', 'hours',\n",
      "       'user_id', 'review_id'],\n",
      "      dtype='object')\n",
      "app_id              int64\n",
      "helpful             int64\n",
      "funny               int64\n",
      "date               object\n",
      "is_recommended      int64\n",
      "hours             float64\n",
      "user_id             int64\n",
      "review_id           int64\n",
      "dtype: object\n",
      "             app_id       helpful         funny  is_recommended         hours  \\\n",
      "count  3.834761e+07  3.834761e+07  3.834761e+07    3.834761e+07  3.834761e+07   \n",
      "mean   5.984193e+05  3.291232e+00  1.089480e+00    8.603174e-01  1.044888e+02   \n",
      "std    4.699534e+05  4.825409e+01  2.950117e+01    3.466574e-01  1.793250e+02   \n",
      "min    1.000000e+01  0.000000e+00  0.000000e+00    0.000000e+00  0.000000e+00   \n",
      "25%    2.524900e+05  0.000000e+00  0.000000e+00    1.000000e+00  8.500000e+00   \n",
      "50%    4.338500e+05  0.000000e+00  0.000000e+00    1.000000e+00  2.940000e+01   \n",
      "75%    9.204900e+05  0.000000e+00  0.000000e+00    1.000000e+00  1.051000e+02   \n",
      "max    2.253290e+06  3.621200e+04  2.810900e+04    1.000000e+00  1.000000e+03   \n",
      "\n",
      "            user_id     review_id  \n",
      "count  3.834761e+07  3.834761e+07  \n",
      "mean   7.172800e+06  1.917381e+07  \n",
      "std    3.869131e+06  1.107000e+07  \n",
      "min    0.000000e+00  0.000000e+00  \n",
      "25%    4.112551e+06  9.586903e+06  \n",
      "50%    7.265269e+06  1.917381e+07  \n",
      "75%    1.056641e+07  2.876071e+07  \n",
      "max    1.378408e+07  3.834761e+07  \n"
     ]
    }
   ],
   "source": [
    "# Load dataset\n",
    "recommendations = pd.read_csv('../datasets/pre_recommendations.csv')\n",
    "\n",
    "print(recommendations.head())\n",
    "print(recommendations.shape)\n",
    "print(recommendations.columns)\n",
    "print(recommendations.dtypes)\n",
    "print(recommendations.describe())"
   ]
  },
  {
   "cell_type": "code",
   "execution_count": 102,
   "metadata": {},
   "outputs": [
    {
     "name": "stdout",
     "output_type": "stream",
     "text": [
      "   app_id             0         1         2\n",
      "0   13500  0.000000e+00  0.000106  0.000128\n",
      "1   22364  2.220446e-16  0.000144  0.001240\n",
      "2  113020  0.000000e+00  0.000214  0.000361\n",
      "3  226560  2.220446e-16  0.000518  0.000962\n",
      "4  249050  0.000000e+00  0.002976  0.004046\n",
      "   app_id       0       1       2\n",
      "0   13500   13500   13600   12320\n",
      "1   22364   22364   44650   42964\n",
      "2  113020  113020  231160  210770\n",
      "3  226560  226560  315151  303470\n",
      "4  249050  249050  313160  320430\n",
      "liked games\n",
      "          app_id  helpful  funny        date  is_recommended  hours  user_id  \\\n",
      "22580757  289070        0      0  2021-03-29               1   80.3       10   \n",
      "23134026  644930        0      0  2021-01-09               1  280.9       10   \n",
      "25761899  323190        0      0  2022-01-06               1  135.2       10   \n",
      "\n",
      "          review_id  \n",
      "22580757   22580757  \n",
      "23134026   23134026  \n",
      "25761899   25761899  \n",
      "[322330, 367520, 994280, 637650, 613100, 632470]\n",
      "[0.014027212077069584, 0.015881691287017552, 0.0013890877645866828, 0.013954363335300313, 0.0060715147826450044, 0.02569605103690742]\n",
      "   distance  app_id\n",
      "2  0.001389  994280\n",
      "4  0.006072  613100\n",
      "3  0.013954  637650\n",
      "0  0.014027  322330\n",
      "1  0.015882  367520\n",
      "5  0.025696  632470\n",
      "   app_id                             title  distance\n",
      "0  994280                    古剑奇谭三(Gujian3)  0.001389\n",
      "1  613100                     House Flipper  0.006072\n",
      "2  367520                     Hollow Knight  0.015882\n",
      "3  322330             Don't Starve Together  0.014027\n",
      "4  637650  FINAL FANTASY XV WINDOWS EDITION  0.013954\n",
      "5  632470     Disco Elysium - The Final Cut  0.025696\n"
     ]
    }
   ],
   "source": [
    "# Load the trained model\n",
    "loaded_distances = pd.DataFrame(joblib.load('./models/knn_distances.pkl'))\n",
    "loaded_indices = pd.DataFrame(joblib.load('./models/knn_indices.pkl'))\n",
    "\n",
    "print(loaded_distances.head())\n",
    "print(loaded_indices.head())\n",
    "\n",
    "# 10번 유저 게임 추천\n",
    "\n",
    "# 10번 유저의 추천게임 추출\n",
    "print(\"liked games\")\n",
    "rec_list = recommendations.loc[(recommendations['user_id'] == 10) & (recommendations['is_recommended'] == 1)]\n",
    "print(rec_list)\n",
    "\n",
    "# 10번 유저의 추천 게임과 유사한 K개 게임 추출\n",
    "merged_idices = pd.merge(rec_list, loaded_indices, on='app_id')[[1, 2]]\n",
    "merged_idices = merged_idices.drop_duplicates()\n",
    "merged_idices = merged_idices.values.flatten().tolist()\n",
    "print(merged_idices)\n",
    "\n",
    "merged_distances = pd.merge(rec_list, loaded_distances, on='app_id')[[1, 2]]\n",
    "merged_distances = merged_distances.drop_duplicates()\n",
    "merged_distances = merged_distances.values.flatten().tolist()\n",
    "print(merged_distances)\n",
    "\n",
    "# 거리순으로 정렬\n",
    "sorted_list = pd.DataFrame({'distance': merged_distances, 'app_id': merged_idices}).sort_values(by='distance', ascending=True)\n",
    "print(sorted_list)\n",
    "\n",
    "recommend_result = pd.merge(id_title, sorted_list, on=\"app_id\", how=\"inner\")\n",
    "print(recommend_result)"
   ]
  },
  {
   "cell_type": "code",
   "execution_count": null,
   "metadata": {},
   "outputs": [],
   "source": []
  },
  {
   "cell_type": "markdown",
   "metadata": {},
   "source": [
    "## Evaluate\n",
    "\n",
    "- recommendation에서 유저의 n%를 랜덤으로 제외\n",
    "- 나머지는 학습에 사용\n",
    "- 제외된 유저에서 n%의 데이터로 추천을 받는다.\n",
    "- 추천받은 데이터와 실제 데이터간 자카드 유사도 공식 계산\n"
   ]
  }
 ],
 "metadata": {
  "kernelspec": {
   "display_name": "base",
   "language": "python",
   "name": "python3"
  },
  "language_info": {
   "codemirror_mode": {
    "name": "ipython",
    "version": 3
   },
   "file_extension": ".py",
   "mimetype": "text/x-python",
   "name": "python",
   "nbconvert_exporter": "python",
   "pygments_lexer": "ipython3",
   "version": "3.10.8"
  }
 },
 "nbformat": 4,
 "nbformat_minor": 2
}
