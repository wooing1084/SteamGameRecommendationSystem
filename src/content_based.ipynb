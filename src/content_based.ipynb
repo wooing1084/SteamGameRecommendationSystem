{
 "cells": [
  {
   "cell_type": "code",
   "execution_count": 3,
   "metadata": {},
   "outputs": [],
   "source": [
    "# Importing libraries\n",
    "import pandas as pd\n",
    "import matplotlib.pyplot as plt\n",
    "from sklearn.preprocessing import StandardScaler\n",
    "from sklearn.model_selection import train_test_split\n",
    "from sklearn.metrics.pairwise import cosine_similarity"
   ]
  },
  {
   "cell_type": "code",
   "execution_count": 4,
   "metadata": {},
   "outputs": [
    {
     "name": "stdout",
     "output_type": "stream",
     "text": [
      "   app_id   user_id  is_recommended\n",
      "0  552520   7606333               1\n",
      "1  552520  11805207               1\n",
      "2  552520  10684038               1\n",
      "3  552520    751598               1\n",
      "4  552520   5432359               1\n",
      "5  552520  10910665               1\n",
      "6  552520   6160210               1\n",
      "7  552520   6235310               1\n",
      "8  552520    335223               1\n",
      "9  552520   4686481               0\n"
     ]
    },
    {
     "name": "stderr",
     "output_type": "stream",
     "text": [
      "/var/folders/tr/1pblcvrd48j5lfn0khj_hm4w0000gn/T/ipykernel_45054/2261567727.py:6: SettingWithCopyWarning: \n",
      "A value is trying to be set on a copy of a slice from a DataFrame\n",
      "\n",
      "See the caveats in the documentation: https://pandas.pydata.org/pandas-docs/stable/user_guide/indexing.html#returning-a-view-versus-a-copy\n",
      "  recommend_df.dropna(inplace=True)\n"
     ]
    }
   ],
   "source": [
    "merged_df = pd.read_csv(\"../datasets/merged_steam_games_.csv\")\n",
    "\n",
    "# Select from data\n",
    "recommend_colums = [\"app_id\", \"user_id\", \"is_recommended\"]\n",
    "recommend_df = merged_df[recommend_colums]\n",
    "recommend_df.dropna(inplace=True)\n",
    "print(recommend_df.head(10))"
   ]
  },
  {
   "cell_type": "code",
   "execution_count": 5,
   "metadata": {},
   "outputs": [
    {
     "name": "stdout",
     "output_type": "stream",
     "text": [
      "   Action  Utilities  Animation & Modeling  Photo Editing  Education  Sports  \\\n",
      "0       1          0                     0              0          0       0   \n",
      "1       1          0                     0              0          0       0   \n",
      "2       1          0                     0              0          0       0   \n",
      "3       1          0                     0              0          0       0   \n",
      "4       1          0                     0              0          0       0   \n",
      "5       1          0                     0              0          0       0   \n",
      "6       1          0                     0              0          0       0   \n",
      "7       1          0                     0              0          0       0   \n",
      "8       1          0                     0              0          0       0   \n",
      "9       1          0                     0              0          0       0   \n",
      "\n",
      "   Audio Production  Casual  Web Publishing  Accounting  ...  Tutorial  RPG  \\\n",
      "0                 0       0               0           0  ...         0    0   \n",
      "1                 0       0               0           0  ...         0    0   \n",
      "2                 0       0               0           0  ...         0    0   \n",
      "3                 0       0               0           0  ...         0    0   \n",
      "4                 0       0               0           0  ...         0    0   \n",
      "5                 0       0               0           0  ...         0    0   \n",
      "6                 0       0               0           0  ...         0    0   \n",
      "7                 0       0               0           0  ...         0    0   \n",
      "8                 0       0               0           0  ...         0    0   \n",
      "9                 0       0               0           0  ...         0    0   \n",
      "\n",
      "   Indie  Software Training  Simulation  Game Development  \\\n",
      "0      0                  0           0                 0   \n",
      "1      0                  0           0                 0   \n",
      "2      0                  0           0                 0   \n",
      "3      0                  0           0                 0   \n",
      "4      0                  0           0                 0   \n",
      "5      0                  0           0                 0   \n",
      "6      0                  0           0                 0   \n",
      "7      0                  0           0                 0   \n",
      "8      0                  0           0                 0   \n",
      "9      0                  0           0                 0   \n",
      "\n",
      "   Massively Multiplayer  Early Access  Nudity  Strategy  \n",
      "0                      0             0       0         0  \n",
      "1                      0             0       0         0  \n",
      "2                      0             0       0         0  \n",
      "3                      0             0       0         0  \n",
      "4                      0             0       0         0  \n",
      "5                      0             0       0         0  \n",
      "6                      0             0       0         0  \n",
      "7                      0             0       0         0  \n",
      "8                      0             0       0         0  \n",
      "9                      0             0       0         0  \n",
      "\n",
      "[10 rows x 27 columns]\n"
     ]
    },
    {
     "name": "stderr",
     "output_type": "stream",
     "text": [
      "/var/folders/tr/1pblcvrd48j5lfn0khj_hm4w0000gn/T/ipykernel_45054/3179602805.py:4: SettingWithCopyWarning: \n",
      "A value is trying to be set on a copy of a slice from a DataFrame\n",
      "\n",
      "See the caveats in the documentation: https://pandas.pydata.org/pandas-docs/stable/user_guide/indexing.html#returning-a-view-versus-a-copy\n",
      "  content_df.dropna(inplace=True)\n"
     ]
    }
   ],
   "source": [
    "# Columns representing content characteristics\n",
    "content_columns = merged_df.columns[31:58]\n",
    "content_df = merged_df[content_columns]\n",
    "content_df.dropna(inplace=True)\n",
    "print(content_df.head(10))"
   ]
  },
  {
   "cell_type": "code",
   "execution_count": 6,
   "metadata": {},
   "outputs": [],
   "source": [
    "scaler = StandardScaler()\n",
    "content_df = pd.DataFrame(scaler.fit_transform(content_df), columns=content_columns)\n"
   ]
  },
  {
   "cell_type": "code",
   "execution_count": 22,
   "metadata": {},
   "outputs": [
    {
     "name": "stdout",
     "output_type": "stream",
     "text": [
      "     Action  Utilities  Animation & Modeling  Photo Editing  Education  \\\n",
      "0  0.756176  -0.173836             -0.173836            0.0        0.0   \n",
      "1  0.756176  -0.173836             -0.173836            0.0        0.0   \n",
      "2  0.756176  -0.173836             -0.173836            0.0        0.0   \n",
      "3  0.756176  -0.173836             -0.173836            0.0        0.0   \n",
      "4  0.756176  -0.173836             -0.173836            0.0        0.0   \n",
      "5  0.756176  -0.173836             -0.173836            0.0        0.0   \n",
      "6  0.756176  -0.173836             -0.173836            0.0        0.0   \n",
      "7  0.756176  -0.173836             -0.173836            0.0        0.0   \n",
      "8  0.756176  -0.173836             -0.173836            0.0        0.0   \n",
      "9  0.756176  -0.173836             -0.173836            0.0        0.0   \n",
      "\n",
      "    Sports  Audio Production   Casual  Web Publishing  Accounting  ...  \\\n",
      "0 -0.13021               0.0 -0.26689             0.0         0.0  ...   \n",
      "1 -0.13021               0.0 -0.26689             0.0         0.0  ...   \n",
      "2 -0.13021               0.0 -0.26689             0.0         0.0  ...   \n",
      "3 -0.13021               0.0 -0.26689             0.0         0.0  ...   \n",
      "4 -0.13021               0.0 -0.26689             0.0         0.0  ...   \n",
      "5 -0.13021               0.0 -0.26689             0.0         0.0  ...   \n",
      "6 -0.13021               0.0 -0.26689             0.0         0.0  ...   \n",
      "7 -0.13021               0.0 -0.26689             0.0         0.0  ...   \n",
      "8 -0.13021               0.0 -0.26689             0.0         0.0  ...   \n",
      "9 -0.13021               0.0 -0.26689             0.0         0.0  ...   \n",
      "\n",
      "   Tutorial       RPG     Indie  Software Training  Simulation  \\\n",
      "0       0.0 -0.626272 -0.659077                0.0    -0.50616   \n",
      "1       0.0 -0.626272 -0.659077                0.0    -0.50616   \n",
      "2       0.0 -0.626272 -0.659077                0.0    -0.50616   \n",
      "3       0.0 -0.626272 -0.659077                0.0    -0.50616   \n",
      "4       0.0 -0.626272 -0.659077                0.0    -0.50616   \n",
      "5       0.0 -0.626272 -0.659077                0.0    -0.50616   \n",
      "6       0.0 -0.626272 -0.659077                0.0    -0.50616   \n",
      "7       0.0 -0.626272 -0.659077                0.0    -0.50616   \n",
      "8       0.0 -0.626272 -0.659077                0.0    -0.50616   \n",
      "9       0.0 -0.626272 -0.659077                0.0    -0.50616   \n",
      "\n",
      "   Game Development  Massively Multiplayer  Early Access    Nudity  Strategy  \n",
      "0               0.0              -0.296385     -0.374093 -0.106708 -0.397887  \n",
      "1               0.0              -0.296385     -0.374093 -0.106708 -0.397887  \n",
      "2               0.0              -0.296385     -0.374093 -0.106708 -0.397887  \n",
      "3               0.0              -0.296385     -0.374093 -0.106708 -0.397887  \n",
      "4               0.0              -0.296385     -0.374093 -0.106708 -0.397887  \n",
      "5               0.0              -0.296385     -0.374093 -0.106708 -0.397887  \n",
      "6               0.0              -0.296385     -0.374093 -0.106708 -0.397887  \n",
      "7               0.0              -0.296385     -0.374093 -0.106708 -0.397887  \n",
      "8               0.0              -0.296385     -0.374093 -0.106708 -0.397887  \n",
      "9               0.0              -0.296385     -0.374093 -0.106708 -0.397887  \n",
      "\n",
      "[10 rows x 27 columns]\n"
     ]
    }
   ],
   "source": [
    "print(content_df.head(10))"
   ]
  },
  {
   "cell_type": "code",
   "execution_count": 13,
   "metadata": {},
   "outputs": [
    {
     "name": "stdout",
     "output_type": "stream",
     "text": [
      "Index(['Action', 'Utilities', 'Animation & Modeling', 'Photo Editing',\n",
      "       'Education', 'Sports', 'Audio Production', 'Casual', 'Web Publishing',\n",
      "       'Accounting', 'Documentary', 'Sexual Content', 'Adventure',\n",
      "       'Video Production', 'Design & Illustration', 'Racing', 'Gore',\n",
      "       'Tutorial', 'RPG', 'Indie', 'Software Training', 'Simulation',\n",
      "       'Game Development', 'Massively Multiplayer', 'Early Access', 'Nudity',\n",
      "       'Strategy'],\n",
      "      dtype='object')\n"
     ]
    }
   ],
   "source": [
    "print(merged_df.iloc[:, 31:58].columns)"
   ]
  },
  {
   "cell_type": "code",
   "execution_count": 19,
   "metadata": {},
   "outputs": [],
   "source": [
    "def Recommend_Games(user_id):\n",
    "    user_df = merged_df[recommend_df[\"user_id\"] == user_id]\n",
    "\n",
    "    if user_df.empty:\n",
    "        return []\n",
    "\n",
    "    # Vector representing the user's preference\n",
    "    user_vector = user_df.iloc[:, 31:58].mean().values.reshape(1, -1)\n",
    "\n",
    "    sim_scores = cosine_similarity(user_vector, content_df)\n",
    "\n",
    "    rc_games = sim_scores.argsort()[0][::-1]\n",
    "    unique_rc_games = set(merged_df[\"title\"].iloc[rc_games])\n",
    "\n",
    "    return list(unique_rc_games)[:10]"
   ]
  },
  {
   "cell_type": "code",
   "execution_count": 21,
   "metadata": {},
   "outputs": [
    {
     "name": "stdout",
     "output_type": "stream",
     "text": [
      "10 Games Recommend to 7606333 : \n",
      "['Mount & Blade: Warband', 'Left 4 Dead 2', 'The Forest', 'Bloons TD 6', 'ARK: Survival Evolved']\n",
      "['World of Tanks Blitz', 'Project Zomboid', 'War Thunder', 'Team Fortress 2', 'Raft']\n"
     ]
    }
   ],
   "source": [
    "user_id = 7606333\n",
    "recommendations = Recommend_Games(user_id)\n",
    "print(f\"10 Games Recommend to {user_id} : \\n{recommendations[:5]}\")\n",
    "print(recommendations[5:])"
   ]
  },
  {
   "cell_type": "code",
   "execution_count": 9,
   "metadata": {},
   "outputs": [
    {
     "name": "stdout",
     "output_type": "stream",
     "text": [
      "Int64Index([    1183,     2765,     4446,    15089,    16448,    48843,\n",
      "               51559,    73191,    73274,    83283,\n",
      "            ...\n",
      "            13703989, 13708103, 13714056, 13715092, 13718408, 13720291,\n",
      "            13735884, 13737779, 13755432, 13781520],\n",
      "           dtype='int64', name='user_id', length=1417)\n",
      "(41908, 59)\n",
      "(4457, 59)\n"
     ]
    }
   ],
   "source": [
    "user_game_count = pd.DataFrame(merged_df.groupby(\"user_id\")[\"app_id\"].count())\n",
    "# print(user_game_count[user_game_count['user_id'] > 10].shape)\n",
    "\n",
    "over_10_users = user_game_count[user_game_count[\"app_id\"] > 10].index\n",
    "under_10_users = user_game_count[user_game_count[\"app_id\"] <= 10].index\n",
    "print(over_10_users)\n",
    "\n",
    "train_X = []\n",
    "test_X = []\n",
    "\n",
    "for user in merged_df[\"user_id\"].unique():\n",
    "    X = merged_df[merged_df[\"user_id\"] == user]\n",
    "\n",
    "    if len(X) <= 10:\n",
    "        train_X.append(X)\n",
    "        continue\n",
    "\n",
    "    train, test = train_test_split(X, test_size=0.2)\n",
    "    train_X.append(train)\n",
    "    test_X.append(test)\n",
    "\n",
    "train_X = pd.concat(train_X)\n",
    "test_X = pd.concat(test_X)\n",
    "\n",
    "print(train_X.shape)\n",
    "print(test_X.shape)"
   ]
  },
  {
   "cell_type": "code",
   "execution_count": 10,
   "metadata": {},
   "outputs": [
    {
     "name": "stdout",
     "output_type": "stream",
     "text": [
      "(41908, 59)\n",
      "(4457, 59)\n",
      "average_precision: 0.04854712969525188\n",
      "average_recall: 0.168040228139449\n",
      "HitRate: 0.4050811573747354\n"
     ]
    }
   ],
   "source": [
    "print(train_X.shape)\n",
    "print(test_X.shape)\n",
    "\n",
    "all_precisions = []\n",
    "all_recalls = []\n",
    "hitCount = 0\n",
    "\n",
    "for user in over_10_users:\n",
    "    user_test_X = test_X[test_X[\"user_id\"] == user]\n",
    "    actual_Y = pd.DataFrame(user_test_X[user_test_X[\"is_recommended\"] == 1])\n",
    "\n",
    "    predict_Y = pd.DataFrame(Recommend_Games(user), columns=[\"title\"])\n",
    "\n",
    "    if not actual_Y.empty and not predict_Y.empty:\n",
    "        hit = len(set(actual_Y[\"title\"]) & set(predict_Y[\"title\"]))\n",
    "        if hit > 0:\n",
    "            hitCount += 1\n",
    "        precision = hit / len(predict_Y[\"title\"])\n",
    "        recall = hit / len(actual_Y[\"title\"])\n",
    "        all_precisions.append(precision)\n",
    "        all_recalls.append(recall)\n",
    "\n",
    "\n",
    "average_precision = sum(all_precisions) / len(all_precisions)\n",
    "average_recall = sum(all_recalls) / len(all_recalls)\n",
    "HitRate = hitCount / len(over_10_users)\n",
    "\n",
    "print(\"average_precision:\", average_precision)\n",
    "print(\"average_recall:\", average_recall)\n",
    "print(\"HitRate:\", HitRate)\n"
   ]
  }
 ],
 "metadata": {
  "kernelspec": {
   "display_name": "base",
   "language": "python",
   "name": "python3"
  },
  "language_info": {
   "codemirror_mode": {
    "name": "ipython",
    "version": 3
   },
   "file_extension": ".py",
   "mimetype": "text/x-python",
   "name": "python",
   "nbconvert_exporter": "python",
   "pygments_lexer": "ipython3",
   "version": "3.10.8"
  }
 },
 "nbformat": 4,
 "nbformat_minor": 2
}
